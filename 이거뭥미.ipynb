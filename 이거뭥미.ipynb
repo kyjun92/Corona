{
 "cells": [
  {
   "cell_type": "code",
   "execution_count": 5,
   "metadata": {},
   "outputs": [],
   "source": [
    "import pandas as pd\n",
    "import numpy as np\n",
    "from numpy import loadtxt\n",
    "from xgboost import XGBClassifier\n",
    "from xgboost import plot_importance\n",
    "from matplotlib import pyplot"
   ]
  },
  {
   "cell_type": "code",
   "execution_count": 4,
   "metadata": {},
   "outputs": [],
   "source": [
    "all = pd.read_csv('data2/PatientInfo.csv')"
   ]
  },
  {
   "cell_type": "code",
   "execution_count": 7,
   "metadata": {},
   "outputs": [
    {
     "data": {
      "text/html": [
       "<div>\n",
       "<style scoped>\n",
       "    .dataframe tbody tr th:only-of-type {\n",
       "        vertical-align: middle;\n",
       "    }\n",
       "\n",
       "    .dataframe tbody tr th {\n",
       "        vertical-align: top;\n",
       "    }\n",
       "\n",
       "    .dataframe thead th {\n",
       "        text-align: right;\n",
       "    }\n",
       "</style>\n",
       "<table border=\"1\" class=\"dataframe\">\n",
       "  <thead>\n",
       "    <tr style=\"text-align: right;\">\n",
       "      <th></th>\n",
       "      <th>sex</th>\n",
       "      <th>age</th>\n",
       "      <th>province</th>\n",
       "      <th>confirmed_date</th>\n",
       "    </tr>\n",
       "  </thead>\n",
       "  <tbody>\n",
       "    <tr>\n",
       "      <th>0</th>\n",
       "      <td>female</td>\n",
       "      <td>30</td>\n",
       "      <td>Incheon</td>\n",
       "      <td>2020-01-20</td>\n",
       "    </tr>\n",
       "    <tr>\n",
       "      <th>1</th>\n",
       "      <td>male</td>\n",
       "      <td>50</td>\n",
       "      <td>Seoul</td>\n",
       "      <td>2020-01-23</td>\n",
       "    </tr>\n",
       "    <tr>\n",
       "      <th>2</th>\n",
       "      <td>male</td>\n",
       "      <td>50</td>\n",
       "      <td>Gyeonggi-do</td>\n",
       "      <td>2020-01-26</td>\n",
       "    </tr>\n",
       "    <tr>\n",
       "      <th>3</th>\n",
       "      <td>male</td>\n",
       "      <td>50</td>\n",
       "      <td>Gyeonggi-do</td>\n",
       "      <td>2020-01-27</td>\n",
       "    </tr>\n",
       "    <tr>\n",
       "      <th>4</th>\n",
       "      <td>male</td>\n",
       "      <td>30</td>\n",
       "      <td>Seoul</td>\n",
       "      <td>2020-01-30</td>\n",
       "    </tr>\n",
       "  </tbody>\n",
       "</table>\n",
       "</div>"
      ],
      "text/plain": [
       "      sex  age     province confirmed_date\n",
       "0  female   30      Incheon     2020-01-20\n",
       "1    male   50        Seoul     2020-01-23\n",
       "2    male   50  Gyeonggi-do     2020-01-26\n",
       "3    male   50  Gyeonggi-do     2020-01-27\n",
       "4    male   30        Seoul     2020-01-30"
      ]
     },
     "execution_count": 7,
     "metadata": {},
     "output_type": "execute_result"
    }
   ],
   "source": [
    "all.head()"
   ]
  },
  {
   "cell_type": "code",
   "execution_count": 12,
   "metadata": {},
   "outputs": [],
   "source": [
    "weather = pd.read_csv('data2/weather3.csv')"
   ]
  },
  {
   "cell_type": "code",
   "execution_count": 13,
   "metadata": {},
   "outputs": [
    {
     "data": {
      "text/html": [
       "<div>\n",
       "<style scoped>\n",
       "    .dataframe tbody tr th:only-of-type {\n",
       "        vertical-align: middle;\n",
       "    }\n",
       "\n",
       "    .dataframe tbody tr th {\n",
       "        vertical-align: top;\n",
       "    }\n",
       "\n",
       "    .dataframe thead th {\n",
       "        text-align: right;\n",
       "    }\n",
       "</style>\n",
       "<table border=\"1\" class=\"dataframe\">\n",
       "  <thead>\n",
       "    <tr style=\"text-align: right;\">\n",
       "      <th></th>\n",
       "      <th>province</th>\n",
       "      <th>date</th>\n",
       "      <th>avg_temp</th>\n",
       "      <th>avg_relative_humidity</th>\n",
       "    </tr>\n",
       "  </thead>\n",
       "  <tbody>\n",
       "    <tr>\n",
       "      <th>0</th>\n",
       "      <td>Seoul</td>\n",
       "      <td>2020-01-20</td>\n",
       "      <td>0.7</td>\n",
       "      <td>46.8</td>\n",
       "    </tr>\n",
       "    <tr>\n",
       "      <th>1</th>\n",
       "      <td>Busan</td>\n",
       "      <td>2020-01-20</td>\n",
       "      <td>5.1</td>\n",
       "      <td>45.6</td>\n",
       "    </tr>\n",
       "    <tr>\n",
       "      <th>2</th>\n",
       "      <td>Daegu</td>\n",
       "      <td>2020-01-20</td>\n",
       "      <td>4.6</td>\n",
       "      <td>44.1</td>\n",
       "    </tr>\n",
       "    <tr>\n",
       "      <th>3</th>\n",
       "      <td>Gwangju</td>\n",
       "      <td>2020-01-20</td>\n",
       "      <td>4.0</td>\n",
       "      <td>63.1</td>\n",
       "    </tr>\n",
       "    <tr>\n",
       "      <th>4</th>\n",
       "      <td>Incheon</td>\n",
       "      <td>2020-01-20</td>\n",
       "      <td>1.2</td>\n",
       "      <td>56.0</td>\n",
       "    </tr>\n",
       "  </tbody>\n",
       "</table>\n",
       "</div>"
      ],
      "text/plain": [
       "  province        date  avg_temp  avg_relative_humidity\n",
       "0    Seoul  2020-01-20       0.7                   46.8\n",
       "1    Busan  2020-01-20       5.1                   45.6\n",
       "2    Daegu  2020-01-20       4.6                   44.1\n",
       "3  Gwangju  2020-01-20       4.0                   63.1\n",
       "4  Incheon  2020-01-20       1.2                   56.0"
      ]
     },
     "execution_count": 13,
     "metadata": {},
     "output_type": "execute_result"
    }
   ],
   "source": [
    "weather.head()"
   ]
  },
  {
   "cell_type": "code",
   "execution_count": 14,
   "metadata": {},
   "outputs": [],
   "source": [
    "time = pd.read_csv('data2/TimeProvince.csv')"
   ]
  },
  {
   "cell_type": "code",
   "execution_count": 15,
   "metadata": {},
   "outputs": [
    {
     "data": {
      "text/html": [
       "<div>\n",
       "<style scoped>\n",
       "    .dataframe tbody tr th:only-of-type {\n",
       "        vertical-align: middle;\n",
       "    }\n",
       "\n",
       "    .dataframe tbody tr th {\n",
       "        vertical-align: top;\n",
       "    }\n",
       "\n",
       "    .dataframe thead th {\n",
       "        text-align: right;\n",
       "    }\n",
       "</style>\n",
       "<table border=\"1\" class=\"dataframe\">\n",
       "  <thead>\n",
       "    <tr style=\"text-align: right;\">\n",
       "      <th></th>\n",
       "      <th>date</th>\n",
       "      <th>province</th>\n",
       "      <th>confirmed</th>\n",
       "    </tr>\n",
       "  </thead>\n",
       "  <tbody>\n",
       "    <tr>\n",
       "      <th>0</th>\n",
       "      <td>2020-01-20</td>\n",
       "      <td>Seoul</td>\n",
       "      <td>0</td>\n",
       "    </tr>\n",
       "    <tr>\n",
       "      <th>1</th>\n",
       "      <td>2020-01-20</td>\n",
       "      <td>Busan</td>\n",
       "      <td>0</td>\n",
       "    </tr>\n",
       "    <tr>\n",
       "      <th>2</th>\n",
       "      <td>2020-01-20</td>\n",
       "      <td>Daegu</td>\n",
       "      <td>0</td>\n",
       "    </tr>\n",
       "    <tr>\n",
       "      <th>3</th>\n",
       "      <td>2020-01-20</td>\n",
       "      <td>Incheon</td>\n",
       "      <td>1</td>\n",
       "    </tr>\n",
       "    <tr>\n",
       "      <th>4</th>\n",
       "      <td>2020-01-20</td>\n",
       "      <td>Gwangju</td>\n",
       "      <td>0</td>\n",
       "    </tr>\n",
       "  </tbody>\n",
       "</table>\n",
       "</div>"
      ],
      "text/plain": [
       "         date province  confirmed\n",
       "0  2020-01-20    Seoul          0\n",
       "1  2020-01-20    Busan          0\n",
       "2  2020-01-20    Daegu          0\n",
       "3  2020-01-20  Incheon          1\n",
       "4  2020-01-20  Gwangju          0"
      ]
     },
     "execution_count": 15,
     "metadata": {},
     "output_type": "execute_result"
    }
   ],
   "source": [
    "time.head()"
   ]
  },
  {
   "cell_type": "code",
   "execution_count": 16,
   "metadata": {},
   "outputs": [
    {
     "name": "stdout",
     "output_type": "stream",
     "text": [
      "<class 'pandas.core.frame.DataFrame'>\n",
      "RangeIndex: 2128 entries, 0 to 2127\n",
      "Data columns (total 4 columns):\n",
      " #   Column                 Non-Null Count  Dtype  \n",
      "---  ------                 --------------  -----  \n",
      " 0   province               2128 non-null   object \n",
      " 1   date                   2128 non-null   object \n",
      " 2   avg_temp               2128 non-null   float64\n",
      " 3   avg_relative_humidity  2128 non-null   float64\n",
      "dtypes: float64(2), object(2)\n",
      "memory usage: 66.6+ KB\n"
     ]
    }
   ],
   "source": [
    "weather.info()"
   ]
  },
  {
   "cell_type": "code",
   "execution_count": 17,
   "metadata": {},
   "outputs": [
    {
     "name": "stdout",
     "output_type": "stream",
     "text": [
      "<class 'pandas.core.frame.DataFrame'>\n",
      "RangeIndex: 2261 entries, 0 to 2260\n",
      "Data columns (total 3 columns):\n",
      " #   Column     Non-Null Count  Dtype \n",
      "---  ------     --------------  ----- \n",
      " 0   date       2261 non-null   object\n",
      " 1   province   2261 non-null   object\n",
      " 2   confirmed  2261 non-null   int64 \n",
      "dtypes: int64(1), object(2)\n",
      "memory usage: 53.1+ KB\n"
     ]
    }
   ],
   "source": [
    "time.info()"
   ]
  },
  {
   "cell_type": "code",
   "execution_count": 18,
   "metadata": {},
   "outputs": [],
   "source": [
    "weather['dp'] = weather['date'] + weather['province']"
   ]
  },
  {
   "cell_type": "code",
   "execution_count": 22,
   "metadata": {},
   "outputs": [],
   "source": [
    "weather=weather.drop('dp', axis=1)"
   ]
  },
  {
   "cell_type": "code",
   "execution_count": 23,
   "metadata": {},
   "outputs": [
    {
     "data": {
      "text/html": [
       "<div>\n",
       "<style scoped>\n",
       "    .dataframe tbody tr th:only-of-type {\n",
       "        vertical-align: middle;\n",
       "    }\n",
       "\n",
       "    .dataframe tbody tr th {\n",
       "        vertical-align: top;\n",
       "    }\n",
       "\n",
       "    .dataframe thead th {\n",
       "        text-align: right;\n",
       "    }\n",
       "</style>\n",
       "<table border=\"1\" class=\"dataframe\">\n",
       "  <thead>\n",
       "    <tr style=\"text-align: right;\">\n",
       "      <th></th>\n",
       "      <th>province</th>\n",
       "      <th>date</th>\n",
       "      <th>avg_temp</th>\n",
       "      <th>avg_relative_humidity</th>\n",
       "    </tr>\n",
       "  </thead>\n",
       "  <tbody>\n",
       "    <tr>\n",
       "      <th>0</th>\n",
       "      <td>Seoul</td>\n",
       "      <td>2020-01-20</td>\n",
       "      <td>0.7</td>\n",
       "      <td>46.8</td>\n",
       "    </tr>\n",
       "    <tr>\n",
       "      <th>1</th>\n",
       "      <td>Busan</td>\n",
       "      <td>2020-01-20</td>\n",
       "      <td>5.1</td>\n",
       "      <td>45.6</td>\n",
       "    </tr>\n",
       "    <tr>\n",
       "      <th>2</th>\n",
       "      <td>Daegu</td>\n",
       "      <td>2020-01-20</td>\n",
       "      <td>4.6</td>\n",
       "      <td>44.1</td>\n",
       "    </tr>\n",
       "    <tr>\n",
       "      <th>3</th>\n",
       "      <td>Gwangju</td>\n",
       "      <td>2020-01-20</td>\n",
       "      <td>4.0</td>\n",
       "      <td>63.1</td>\n",
       "    </tr>\n",
       "    <tr>\n",
       "      <th>4</th>\n",
       "      <td>Incheon</td>\n",
       "      <td>2020-01-20</td>\n",
       "      <td>1.2</td>\n",
       "      <td>56.0</td>\n",
       "    </tr>\n",
       "    <tr>\n",
       "      <th>...</th>\n",
       "      <td>...</td>\n",
       "      <td>...</td>\n",
       "      <td>...</td>\n",
       "      <td>...</td>\n",
       "    </tr>\n",
       "    <tr>\n",
       "      <th>2123</th>\n",
       "      <td>Jeollabuk-do</td>\n",
       "      <td>2020-05-31</td>\n",
       "      <td>20.9</td>\n",
       "      <td>61.8</td>\n",
       "    </tr>\n",
       "    <tr>\n",
       "      <th>2124</th>\n",
       "      <td>Jeollanam-do</td>\n",
       "      <td>2020-05-31</td>\n",
       "      <td>19.1</td>\n",
       "      <td>84.1</td>\n",
       "    </tr>\n",
       "    <tr>\n",
       "      <th>2125</th>\n",
       "      <td>Gyeongsangbuk-do</td>\n",
       "      <td>2020-05-31</td>\n",
       "      <td>18.5</td>\n",
       "      <td>77.4</td>\n",
       "    </tr>\n",
       "    <tr>\n",
       "      <th>2126</th>\n",
       "      <td>Gyeongsangnam-do</td>\n",
       "      <td>2020-05-31</td>\n",
       "      <td>19.3</td>\n",
       "      <td>71.5</td>\n",
       "    </tr>\n",
       "    <tr>\n",
       "      <th>2127</th>\n",
       "      <td>Jeju-do</td>\n",
       "      <td>2020-05-31</td>\n",
       "      <td>19.7</td>\n",
       "      <td>88.1</td>\n",
       "    </tr>\n",
       "  </tbody>\n",
       "</table>\n",
       "<p>2128 rows × 4 columns</p>\n",
       "</div>"
      ],
      "text/plain": [
       "              province        date  avg_temp  avg_relative_humidity\n",
       "0                Seoul  2020-01-20       0.7                   46.8\n",
       "1                Busan  2020-01-20       5.1                   45.6\n",
       "2                Daegu  2020-01-20       4.6                   44.1\n",
       "3              Gwangju  2020-01-20       4.0                   63.1\n",
       "4              Incheon  2020-01-20       1.2                   56.0\n",
       "...                ...         ...       ...                    ...\n",
       "2123      Jeollabuk-do  2020-05-31      20.9                   61.8\n",
       "2124      Jeollanam-do  2020-05-31      19.1                   84.1\n",
       "2125  Gyeongsangbuk-do  2020-05-31      18.5                   77.4\n",
       "2126  Gyeongsangnam-do  2020-05-31      19.3                   71.5\n",
       "2127           Jeju-do  2020-05-31      19.7                   88.1\n",
       "\n",
       "[2128 rows x 4 columns]"
      ]
     },
     "execution_count": 23,
     "metadata": {},
     "output_type": "execute_result"
    }
   ],
   "source": [
    "weather"
   ]
  },
  {
   "cell_type": "code",
   "execution_count": 40,
   "metadata": {},
   "outputs": [],
   "source": [
    "df=pd.merge(weather, time, how='inner', on=['date', 'province'])"
   ]
  },
  {
   "cell_type": "code",
   "execution_count": 41,
   "metadata": {
    "scrolled": true
   },
   "outputs": [
    {
     "data": {
      "text/html": [
       "<div>\n",
       "<style scoped>\n",
       "    .dataframe tbody tr th:only-of-type {\n",
       "        vertical-align: middle;\n",
       "    }\n",
       "\n",
       "    .dataframe tbody tr th {\n",
       "        vertical-align: top;\n",
       "    }\n",
       "\n",
       "    .dataframe thead th {\n",
       "        text-align: right;\n",
       "    }\n",
       "</style>\n",
       "<table border=\"1\" class=\"dataframe\">\n",
       "  <thead>\n",
       "    <tr style=\"text-align: right;\">\n",
       "      <th></th>\n",
       "      <th>province</th>\n",
       "      <th>date</th>\n",
       "      <th>avg_temp</th>\n",
       "      <th>avg_relative_humidity</th>\n",
       "      <th>confirmed</th>\n",
       "    </tr>\n",
       "  </thead>\n",
       "  <tbody>\n",
       "    <tr>\n",
       "      <th>0</th>\n",
       "      <td>Seoul</td>\n",
       "      <td>2020-01-20</td>\n",
       "      <td>0.7</td>\n",
       "      <td>46.8</td>\n",
       "      <td>0</td>\n",
       "    </tr>\n",
       "    <tr>\n",
       "      <th>1</th>\n",
       "      <td>Busan</td>\n",
       "      <td>2020-01-20</td>\n",
       "      <td>5.1</td>\n",
       "      <td>45.6</td>\n",
       "      <td>0</td>\n",
       "    </tr>\n",
       "    <tr>\n",
       "      <th>2</th>\n",
       "      <td>Daegu</td>\n",
       "      <td>2020-01-20</td>\n",
       "      <td>4.6</td>\n",
       "      <td>44.1</td>\n",
       "      <td>0</td>\n",
       "    </tr>\n",
       "    <tr>\n",
       "      <th>3</th>\n",
       "      <td>Gwangju</td>\n",
       "      <td>2020-01-20</td>\n",
       "      <td>4.0</td>\n",
       "      <td>63.1</td>\n",
       "      <td>0</td>\n",
       "    </tr>\n",
       "    <tr>\n",
       "      <th>4</th>\n",
       "      <td>Incheon</td>\n",
       "      <td>2020-01-20</td>\n",
       "      <td>1.2</td>\n",
       "      <td>56.0</td>\n",
       "      <td>1</td>\n",
       "    </tr>\n",
       "    <tr>\n",
       "      <th>...</th>\n",
       "      <td>...</td>\n",
       "      <td>...</td>\n",
       "      <td>...</td>\n",
       "      <td>...</td>\n",
       "      <td>...</td>\n",
       "    </tr>\n",
       "    <tr>\n",
       "      <th>2123</th>\n",
       "      <td>Jeollabuk-do</td>\n",
       "      <td>2020-05-31</td>\n",
       "      <td>20.9</td>\n",
       "      <td>61.8</td>\n",
       "      <td>21</td>\n",
       "    </tr>\n",
       "    <tr>\n",
       "      <th>2124</th>\n",
       "      <td>Jeollanam-do</td>\n",
       "      <td>2020-05-31</td>\n",
       "      <td>19.1</td>\n",
       "      <td>84.1</td>\n",
       "      <td>19</td>\n",
       "    </tr>\n",
       "    <tr>\n",
       "      <th>2125</th>\n",
       "      <td>Gyeongsangbuk-do</td>\n",
       "      <td>2020-05-31</td>\n",
       "      <td>18.5</td>\n",
       "      <td>77.4</td>\n",
       "      <td>1379</td>\n",
       "    </tr>\n",
       "    <tr>\n",
       "      <th>2126</th>\n",
       "      <td>Gyeongsangnam-do</td>\n",
       "      <td>2020-05-31</td>\n",
       "      <td>19.3</td>\n",
       "      <td>71.5</td>\n",
       "      <td>123</td>\n",
       "    </tr>\n",
       "    <tr>\n",
       "      <th>2127</th>\n",
       "      <td>Jeju-do</td>\n",
       "      <td>2020-05-31</td>\n",
       "      <td>19.7</td>\n",
       "      <td>88.1</td>\n",
       "      <td>15</td>\n",
       "    </tr>\n",
       "  </tbody>\n",
       "</table>\n",
       "<p>2128 rows × 5 columns</p>\n",
       "</div>"
      ],
      "text/plain": [
       "              province        date  avg_temp  avg_relative_humidity  confirmed\n",
       "0                Seoul  2020-01-20       0.7                   46.8          0\n",
       "1                Busan  2020-01-20       5.1                   45.6          0\n",
       "2                Daegu  2020-01-20       4.6                   44.1          0\n",
       "3              Gwangju  2020-01-20       4.0                   63.1          0\n",
       "4              Incheon  2020-01-20       1.2                   56.0          1\n",
       "...                ...         ...       ...                    ...        ...\n",
       "2123      Jeollabuk-do  2020-05-31      20.9                   61.8         21\n",
       "2124      Jeollanam-do  2020-05-31      19.1                   84.1         19\n",
       "2125  Gyeongsangbuk-do  2020-05-31      18.5                   77.4       1379\n",
       "2126  Gyeongsangnam-do  2020-05-31      19.3                   71.5        123\n",
       "2127           Jeju-do  2020-05-31      19.7                   88.1         15\n",
       "\n",
       "[2128 rows x 5 columns]"
      ]
     },
     "execution_count": 41,
     "metadata": {},
     "output_type": "execute_result"
    }
   ],
   "source": [
    "df"
   ]
  },
  {
   "cell_type": "code",
   "execution_count": 28,
   "metadata": {},
   "outputs": [
    {
     "name": "stdout",
     "output_type": "stream",
     "text": [
      "<class 'pandas.core.frame.DataFrame'>\n",
      "Int64Index: 2128 entries, 0 to 2127\n",
      "Data columns (total 5 columns):\n",
      " #   Column                 Non-Null Count  Dtype  \n",
      "---  ------                 --------------  -----  \n",
      " 0   province               2128 non-null   object \n",
      " 1   date                   2128 non-null   object \n",
      " 2   avg_temp               2128 non-null   float64\n",
      " 3   avg_relative_humidity  2128 non-null   float64\n",
      " 4   confirmed              2128 non-null   int64  \n",
      "dtypes: float64(2), int64(1), object(2)\n",
      "memory usage: 99.8+ KB\n"
     ]
    }
   ],
   "source": [
    "df.info()"
   ]
  },
  {
   "cell_type": "code",
   "execution_count": 29,
   "metadata": {},
   "outputs": [
    {
     "data": {
      "text/plain": [
       "province                 0\n",
       "date                     0\n",
       "avg_temp                 0\n",
       "avg_relative_humidity    0\n",
       "confirmed                0\n",
       "dtype: int64"
      ]
     },
     "execution_count": 29,
     "metadata": {},
     "output_type": "execute_result"
    }
   ],
   "source": [
    "df.isnull().sum()"
   ]
  },
  {
   "cell_type": "code",
   "execution_count": 42,
   "metadata": {},
   "outputs": [
    {
     "data": {
      "text/html": [
       "<div>\n",
       "<style scoped>\n",
       "    .dataframe tbody tr th:only-of-type {\n",
       "        vertical-align: middle;\n",
       "    }\n",
       "\n",
       "    .dataframe tbody tr th {\n",
       "        vertical-align: top;\n",
       "    }\n",
       "\n",
       "    .dataframe thead th {\n",
       "        text-align: right;\n",
       "    }\n",
       "</style>\n",
       "<table border=\"1\" class=\"dataframe\">\n",
       "  <thead>\n",
       "    <tr style=\"text-align: right;\">\n",
       "      <th></th>\n",
       "      <th>province</th>\n",
       "      <th>date</th>\n",
       "      <th>avg_temp</th>\n",
       "      <th>avg_relative_humidity</th>\n",
       "      <th>confirmed</th>\n",
       "    </tr>\n",
       "  </thead>\n",
       "  <tbody>\n",
       "    <tr>\n",
       "      <th>0</th>\n",
       "      <td>Seoul</td>\n",
       "      <td>2020-01-20</td>\n",
       "      <td>0.7</td>\n",
       "      <td>46.8</td>\n",
       "      <td>0</td>\n",
       "    </tr>\n",
       "    <tr>\n",
       "      <th>1</th>\n",
       "      <td>Busan</td>\n",
       "      <td>2020-01-20</td>\n",
       "      <td>5.1</td>\n",
       "      <td>45.6</td>\n",
       "      <td>0</td>\n",
       "    </tr>\n",
       "    <tr>\n",
       "      <th>2</th>\n",
       "      <td>Daegu</td>\n",
       "      <td>2020-01-20</td>\n",
       "      <td>4.6</td>\n",
       "      <td>44.1</td>\n",
       "      <td>0</td>\n",
       "    </tr>\n",
       "    <tr>\n",
       "      <th>3</th>\n",
       "      <td>Gwangju</td>\n",
       "      <td>2020-01-20</td>\n",
       "      <td>4.0</td>\n",
       "      <td>63.1</td>\n",
       "      <td>0</td>\n",
       "    </tr>\n",
       "    <tr>\n",
       "      <th>4</th>\n",
       "      <td>Incheon</td>\n",
       "      <td>2020-01-20</td>\n",
       "      <td>1.2</td>\n",
       "      <td>56.0</td>\n",
       "      <td>1</td>\n",
       "    </tr>\n",
       "    <tr>\n",
       "      <th>...</th>\n",
       "      <td>...</td>\n",
       "      <td>...</td>\n",
       "      <td>...</td>\n",
       "      <td>...</td>\n",
       "      <td>...</td>\n",
       "    </tr>\n",
       "    <tr>\n",
       "      <th>2123</th>\n",
       "      <td>Jeollabuk-do</td>\n",
       "      <td>2020-05-31</td>\n",
       "      <td>20.9</td>\n",
       "      <td>61.8</td>\n",
       "      <td>21</td>\n",
       "    </tr>\n",
       "    <tr>\n",
       "      <th>2124</th>\n",
       "      <td>Jeollanam-do</td>\n",
       "      <td>2020-05-31</td>\n",
       "      <td>19.1</td>\n",
       "      <td>84.1</td>\n",
       "      <td>19</td>\n",
       "    </tr>\n",
       "    <tr>\n",
       "      <th>2125</th>\n",
       "      <td>Gyeongsangbuk-do</td>\n",
       "      <td>2020-05-31</td>\n",
       "      <td>18.5</td>\n",
       "      <td>77.4</td>\n",
       "      <td>1379</td>\n",
       "    </tr>\n",
       "    <tr>\n",
       "      <th>2126</th>\n",
       "      <td>Gyeongsangnam-do</td>\n",
       "      <td>2020-05-31</td>\n",
       "      <td>19.3</td>\n",
       "      <td>71.5</td>\n",
       "      <td>123</td>\n",
       "    </tr>\n",
       "    <tr>\n",
       "      <th>2127</th>\n",
       "      <td>Jeju-do</td>\n",
       "      <td>2020-05-31</td>\n",
       "      <td>19.7</td>\n",
       "      <td>88.1</td>\n",
       "      <td>15</td>\n",
       "    </tr>\n",
       "  </tbody>\n",
       "</table>\n",
       "<p>2128 rows × 5 columns</p>\n",
       "</div>"
      ],
      "text/plain": [
       "              province        date  avg_temp  avg_relative_humidity  confirmed\n",
       "0                Seoul  2020-01-20       0.7                   46.8          0\n",
       "1                Busan  2020-01-20       5.1                   45.6          0\n",
       "2                Daegu  2020-01-20       4.6                   44.1          0\n",
       "3              Gwangju  2020-01-20       4.0                   63.1          0\n",
       "4              Incheon  2020-01-20       1.2                   56.0          1\n",
       "...                ...         ...       ...                    ...        ...\n",
       "2123      Jeollabuk-do  2020-05-31      20.9                   61.8         21\n",
       "2124      Jeollanam-do  2020-05-31      19.1                   84.1         19\n",
       "2125  Gyeongsangbuk-do  2020-05-31      18.5                   77.4       1379\n",
       "2126  Gyeongsangnam-do  2020-05-31      19.3                   71.5        123\n",
       "2127           Jeju-do  2020-05-31      19.7                   88.1         15\n",
       "\n",
       "[2128 rows x 5 columns]"
      ]
     },
     "execution_count": 42,
     "metadata": {},
     "output_type": "execute_result"
    }
   ],
   "source": [
    "df"
   ]
  },
  {
   "cell_type": "code",
   "execution_count": 148,
   "metadata": {},
   "outputs": [],
   "source": [
    "#x = df.iloc[:, :-1].values\n",
    "#y = df.iloc[:, 3].values\n",
    "#z = df.iloc[:, :].values\n",
    "\n",
    "q = df.drop('date', axis=1)\n",
    "z = q.iloc[:, :].values\n",
    "a = pd.DataFrame(z)"
   ]
  },
  {
   "cell_type": "code",
   "execution_count": 58,
   "metadata": {},
   "outputs": [],
   "source": [
    "le = LabelEncoder()\n",
    "x[:,0] = le.fit_transform(x[:, 0])"
   ]
  },
  {
   "cell_type": "code",
   "execution_count": 59,
   "metadata": {},
   "outputs": [
    {
     "data": {
      "text/plain": [
       "array([[14, '2020-01-20', 0.7, 46.8],\n",
       "       [0, '2020-01-20', 5.1, 45.6],\n",
       "       [3, '2020-01-20', 4.6, 44.1],\n",
       "       ...,\n",
       "       [8, '2020-05-31', 18.5, 77.4],\n",
       "       [9, '2020-05-31', 19.3, 71.5],\n",
       "       [11, '2020-05-31', 19.7, 88.1]], dtype=object)"
      ]
     },
     "execution_count": 59,
     "metadata": {},
     "output_type": "execute_result"
    }
   ],
   "source": [
    "x"
   ]
  },
  {
   "cell_type": "code",
   "execution_count": 63,
   "metadata": {},
   "outputs": [
    {
     "name": "stdout",
     "output_type": "stream",
     "text": [
      "[[14 '2020-01-20' 0.7 46.8]\n",
      " [0 '2020-01-20' 5.1 45.6]\n",
      " [3 '2020-01-20' 4.6 44.1]\n",
      " ...\n",
      " [8 '2020-05-31' 18.5 77.4]\n",
      " [9 '2020-05-31' 19.3 71.5]\n",
      " [11 '2020-05-31' 19.7 88.1]]\n"
     ]
    }
   ],
   "source": [
    "print(x)"
   ]
  },
  {
   "cell_type": "code",
   "execution_count": 75,
   "metadata": {},
   "outputs": [
    {
     "data": {
      "text/plain": [
       "array([['Seoul', '2020-01-20', 0.7, 46.8],\n",
       "       ['Busan', '2020-01-20', 5.1, 45.6],\n",
       "       ['Daegu', '2020-01-20', 4.6, 44.1],\n",
       "       ...,\n",
       "       ['Gyeongsangbuk-do', '2020-05-31', 18.5, 77.4],\n",
       "       ['Gyeongsangnam-do', '2020-05-31', 19.3, 71.5],\n",
       "       ['Jeju-do', '2020-05-31', 19.7, 88.1]], dtype=object)"
      ]
     },
     "execution_count": 75,
     "metadata": {},
     "output_type": "execute_result"
    }
   ],
   "source": [
    "x"
   ]
  },
  {
   "cell_type": "code",
   "execution_count": 76,
   "metadata": {},
   "outputs": [
    {
     "data": {
      "text/plain": [
       "OneHotEncoder(handle_unknown='ignore')"
      ]
     },
     "execution_count": 76,
     "metadata": {},
     "output_type": "execute_result"
    }
   ],
   "source": [
    "enc = OneHotEncoder(handle_unknown='ignore')\n",
    "enc.fit(x)"
   ]
  },
  {
   "cell_type": "code",
   "execution_count": 77,
   "metadata": {},
   "outputs": [
    {
     "data": {
      "text/plain": [
       "[array(['Busan', 'Chungcheongbuk-do', 'Chungcheongnam-do', 'Daegu',\n",
       "        'Daejeon', 'Gangwon-do', 'Gwangju', 'Gyeonggi-do',\n",
       "        'Gyeongsangbuk-do', 'Gyeongsangnam-do', 'Incheon', 'Jeju-do',\n",
       "        'Jeollabuk-do', 'Jeollanam-do', 'Seoul', 'Ulsan'], dtype=object),\n",
       " array(['2020-01-20', '2020-01-21', '2020-01-22', '2020-01-23',\n",
       "        '2020-01-24', '2020-01-25', '2020-01-26', '2020-01-27',\n",
       "        '2020-01-28', '2020-01-29', '2020-01-30', '2020-01-31',\n",
       "        '2020-02-01', '2020-02-02', '2020-02-03', '2020-02-04',\n",
       "        '2020-02-05', '2020-02-06', '2020-02-07', '2020-02-08',\n",
       "        '2020-02-09', '2020-02-10', '2020-02-11', '2020-02-12',\n",
       "        '2020-02-13', '2020-02-14', '2020-02-15', '2020-02-16',\n",
       "        '2020-02-17', '2020-02-18', '2020-02-19', '2020-02-20',\n",
       "        '2020-02-21', '2020-02-22', '2020-02-23', '2020-02-24',\n",
       "        '2020-02-25', '2020-02-26', '2020-02-27', '2020-02-28',\n",
       "        '2020-02-29', '2020-03-01', '2020-03-02', '2020-03-03',\n",
       "        '2020-03-04', '2020-03-05', '2020-03-06', '2020-03-07',\n",
       "        '2020-03-08', '2020-03-09', '2020-03-10', '2020-03-11',\n",
       "        '2020-03-12', '2020-03-13', '2020-03-14', '2020-03-15',\n",
       "        '2020-03-16', '2020-03-17', '2020-03-18', '2020-03-19',\n",
       "        '2020-03-20', '2020-03-21', '2020-03-22', '2020-03-23',\n",
       "        '2020-03-24', '2020-03-25', '2020-03-26', '2020-03-27',\n",
       "        '2020-03-28', '2020-03-29', '2020-03-30', '2020-03-31',\n",
       "        '2020-04-01', '2020-04-02', '2020-04-03', '2020-04-04',\n",
       "        '2020-04-05', '2020-04-06', '2020-04-07', '2020-04-08',\n",
       "        '2020-04-09', '2020-04-10', '2020-04-11', '2020-04-12',\n",
       "        '2020-04-13', '2020-04-14', '2020-04-15', '2020-04-16',\n",
       "        '2020-04-17', '2020-04-18', '2020-04-19', '2020-04-20',\n",
       "        '2020-04-21', '2020-04-22', '2020-04-23', '2020-04-24',\n",
       "        '2020-04-25', '2020-04-26', '2020-04-27', '2020-04-28',\n",
       "        '2020-04-29', '2020-04-30', '2020-05-01', '2020-05-02',\n",
       "        '2020-05-03', '2020-05-04', '2020-05-05', '2020-05-06',\n",
       "        '2020-05-07', '2020-05-08', '2020-05-09', '2020-05-10',\n",
       "        '2020-05-11', '2020-05-12', '2020-05-13', '2020-05-14',\n",
       "        '2020-05-15', '2020-05-16', '2020-05-17', '2020-05-18',\n",
       "        '2020-05-19', '2020-05-20', '2020-05-21', '2020-05-22',\n",
       "        '2020-05-23', '2020-05-24', '2020-05-25', '2020-05-26',\n",
       "        '2020-05-27', '2020-05-28', '2020-05-29', '2020-05-30',\n",
       "        '2020-05-31'], dtype=object),\n",
       " array([-8.3, -8.1, -7.2, -6.6, -6.4, -6.3, -6.2, -5.9, -5.8, -5.5, -5.4,\n",
       "        -5.0, -4.8, -4.6, -4.2, -4.1, -3.7, -3.6, -3.4, -3.2, -3.1, -3.0,\n",
       "        -2.6, -2.3, -2.2, -2.1, -2.0, -1.8, -1.7, -1.6, -1.5, -1.4, -1.3,\n",
       "        -1.2, -1.1, -1.0, -0.9, -0.8, -0.7, -0.6, -0.5, -0.4, -0.3, -0.2,\n",
       "        -0.1, 0.0, 0.1, 0.3, 0.4, 0.5, 0.6, 0.7, 0.8, 0.9, 1.0, 1.1, 1.2,\n",
       "        1.3, 1.4, 1.5, 1.6, 1.7, 1.8, 1.9, 2.0, 2.1, 2.2, 2.3, 2.4, 2.5,\n",
       "        2.6, 2.7, 2.8, 2.9, 3.0, 3.1, 3.2, 3.3, 3.4, 3.5, 3.6, 3.7, 3.8,\n",
       "        3.9, 4.0, 4.1, 4.2, 4.3, 4.4, 4.5, 4.6, 4.7, 4.8, 4.9, 5.0, 5.1,\n",
       "        5.2, 5.3, 5.4, 5.5, 5.6, 5.7, 5.8, 5.9, 6.0, 6.1, 6.2, 6.3, 6.4,\n",
       "        6.5, 6.6, 6.7, 6.8, 6.9, 7.0, 7.1, 7.2, 7.3, 7.4, 7.5, 7.6, 7.7,\n",
       "        7.8, 7.9, 8.0, 8.1, 8.2, 8.3, 8.4, 8.5, 8.6, 8.7, 8.8, 8.9, 9.0,\n",
       "        9.1, 9.2, 9.3, 9.4, 9.5, 9.6, 9.7, 9.8, 9.9, 10.0, 10.1, 10.2,\n",
       "        10.3, 10.4, 10.5, 10.6, 10.7, 10.8, 10.9, 11.0, 11.1, 11.2, 11.3,\n",
       "        11.4, 11.5, 11.6, 11.7, 11.8, 11.9, 12.0, 12.1, 12.2, 12.3, 12.4,\n",
       "        12.5, 12.6, 12.7, 12.8, 12.9, 13.0, 13.1, 13.2, 13.3, 13.4, 13.5,\n",
       "        13.6, 13.7, 13.8, 13.9, 14.0, 14.1, 14.2, 14.3, 14.4, 14.5, 14.6,\n",
       "        14.7, 14.8, 14.9, 15.0, 15.1, 15.2, 15.3, 15.4, 15.5, 15.6, 15.7,\n",
       "        15.8, 15.9, 16.0, 16.1, 16.2, 16.3, 16.4, 16.5, 16.6, 16.7, 16.8,\n",
       "        16.9, 17.0, 17.1, 17.2, 17.3, 17.4, 17.5, 17.6, 17.7, 17.8, 17.9,\n",
       "        18.0, 18.1, 18.2, 18.3, 18.4, 18.5, 18.6, 18.7, 18.8, 18.9, 19.0,\n",
       "        19.1, 19.2, 19.3, 19.4, 19.5, 19.6, 19.7, 19.8, 19.9, 20.0, 20.1,\n",
       "        20.2, 20.3, 20.4, 20.5, 20.6, 20.7, 20.8, 20.9, 21.0, 21.1, 21.2,\n",
       "        21.3, 21.4, 21.5, 21.6, 21.7, 21.8, 21.9, 22.0, 22.1, 22.3, 22.4,\n",
       "        22.5, 22.6, 22.7, 22.8, 23.0, 23.1, 23.9, 24.3, 24.5, 24.9, 26.3],\n",
       "       dtype=object),\n",
       " array([17.9, 20.5, 20.6, 21.0, 22.4, 22.9, 23.4, 25.5, 25.8, 26.0, 26.3,\n",
       "        26.5, 27.5, 28.5, 28.8, 29.0, 29.1, 29.3, 29.5, 29.8, 29.9, 30.3,\n",
       "        30.5, 30.6, 30.8, 31.0, 31.1, 31.3, 31.4, 31.8, 31.9, 32.0, 32.4,\n",
       "        32.5, 32.6, 32.8, 32.9, 33.0, 33.1, 33.5, 33.6, 33.8, 33.9, 34.0,\n",
       "        34.1, 34.4, 34.5, 34.6, 34.8, 35.0, 35.1, 35.3, 35.4, 35.6, 35.9,\n",
       "        36.0, 36.1, 36.4, 36.5, 36.6, 36.8, 36.9, 37.0, 37.1, 37.3, 37.4,\n",
       "        37.5, 37.6, 37.8, 37.9, 38.0, 38.3, 38.4, 38.5, 38.6, 38.8, 39.0,\n",
       "        39.1, 39.3, 39.4, 39.5, 39.6, 39.8, 39.9, 40.0, 40.1, 40.3, 40.4,\n",
       "        40.5, 40.6, 40.8, 40.9, 41.0, 41.3, 41.4, 41.5, 41.6, 41.8, 41.9,\n",
       "        42.0, 42.1, 42.3, 42.4, 42.5, 42.6, 42.8, 42.9, 43.0, 43.1, 43.3,\n",
       "        43.4, 43.5, 43.6, 43.8, 43.9, 44.0, 44.1, 44.3, 44.4, 44.5, 44.6,\n",
       "        44.8, 44.9, 45.0, 45.1, 45.3, 45.5, 45.6, 45.8, 45.9, 46.0, 46.1,\n",
       "        46.3, 46.4, 46.5, 46.6, 46.8, 46.9, 47.0, 47.1, 47.3, 47.4, 47.5,\n",
       "        47.6, 47.8, 47.9, 48.0, 48.1, 48.3, 48.4, 48.5, 48.6, 48.8, 48.9,\n",
       "        49.0, 49.1, 49.3, 49.4, 49.5, 49.6, 49.8, 49.9, 50.0, 50.1, 50.3,\n",
       "        50.4, 50.5, 50.6, 50.8, 50.9, 51.0, 51.1, 51.3, 51.4, 51.5, 51.6,\n",
       "        51.8, 51.9, 52.0, 52.1, 52.3, 52.4, 52.5, 52.6, 52.8, 52.9, 53.0,\n",
       "        53.1, 53.3, 53.4, 53.5, 53.6, 53.8, 53.9, 54.0, 54.1, 54.3, 54.4,\n",
       "        54.5, 54.8, 54.9, 55.0, 55.1, 55.3, 55.4, 55.5, 55.6, 55.8, 55.9,\n",
       "        56.0, 56.1, 56.3, 56.4, 56.5, 56.6, 56.8, 56.9, 57.0, 57.1, 57.3,\n",
       "        57.4, 57.5, 57.6, 57.8, 57.9, 58.0, 58.1, 58.3, 58.4, 58.5, 58.6,\n",
       "        58.8, 58.9, 59.0, 59.1, 59.3, 59.4, 59.5, 59.6, 59.8, 59.9, 60.0,\n",
       "        60.1, 60.3, 60.4, 60.5, 60.6, 60.8, 60.9, 61.0, 61.1, 61.3, 61.4,\n",
       "        61.5, 61.6, 61.8, 61.9, 62.0, 62.1, 62.3, 62.4, 62.5, 62.6, 62.8,\n",
       "        62.9, 63.0, 63.1, 63.3, 63.4, 63.5, 63.6, 63.8, 63.9, 64.0, 64.1,\n",
       "        64.3, 64.4, 64.5, 64.6, 64.8, 64.9, 65.0, 65.1, 65.3, 65.4, 65.5,\n",
       "        65.6, 65.8, 65.9, 66.0, 66.1, 66.3, 66.4, 66.5, 66.6, 66.8, 66.9,\n",
       "        67.0, 67.1, 67.3, 67.4, 67.5, 67.6, 67.8, 67.9, 68.0, 68.1, 68.3,\n",
       "        68.4, 68.5, 68.6, 68.8, 68.9, 69.0, 69.1, 69.3, 69.4, 69.5, 69.6,\n",
       "        69.8, 69.9, 70.0, 70.1, 70.3, 70.4, 70.5, 70.6, 70.8, 71.0, 71.1,\n",
       "        71.3, 71.4, 71.5, 71.6, 71.8, 71.9, 72.0, 72.1, 72.3, 72.4, 72.5,\n",
       "        72.6, 72.8, 72.9, 73.0, 73.1, 73.3, 73.4, 73.5, 73.6, 73.8, 73.9,\n",
       "        74.0, 74.1, 74.3, 74.4, 74.5, 74.6, 74.8, 74.9, 75.0, 75.1, 75.3,\n",
       "        75.4, 75.5, 75.6, 75.8, 75.9, 76.0, 76.1, 76.3, 76.4, 76.5, 76.6,\n",
       "        76.8, 76.9, 77.0, 77.1, 77.3, 77.4, 77.5, 77.6, 77.8, 77.9, 78.0,\n",
       "        78.1, 78.3, 78.4, 78.5, 78.6, 78.8, 78.9, 79.0, 79.1, 79.3, 79.4,\n",
       "        79.5, 79.6, 79.8, 79.9, 80.0, 80.1, 80.3, 80.4, 80.5, 80.6, 80.8,\n",
       "        80.9, 81.0, 81.1, 81.3, 81.4, 81.5, 81.6, 81.8, 81.9, 82.0, 82.1,\n",
       "        82.3, 82.4, 82.5, 82.6, 82.8, 82.9, 83.1, 83.3, 83.4, 83.5, 83.6,\n",
       "        83.8, 83.9, 84.0, 84.1, 84.3, 84.4, 84.5, 84.6, 84.8, 84.9, 85.0,\n",
       "        85.1, 85.3, 85.4, 85.5, 85.6, 85.8, 86.0, 86.1, 86.3, 86.5, 86.6,\n",
       "        86.8, 86.9, 87.0, 87.1, 87.3, 87.4, 87.5, 87.6, 87.9, 88.0, 88.1,\n",
       "        88.3, 88.4, 88.5, 88.6, 88.8, 89.0, 89.1, 89.3, 89.4, 89.5, 89.6,\n",
       "        89.8, 90.0, 90.1, 90.3, 90.4, 90.5, 90.8, 90.9, 91.0, 91.1, 91.3,\n",
       "        91.4, 91.5, 91.8, 91.9, 92.0, 92.1, 92.3, 92.4, 92.5, 92.6, 92.8,\n",
       "        92.9, 93.0, 93.1, 93.3, 93.4, 93.5, 93.6, 93.8, 93.9, 94.0, 94.1,\n",
       "        94.3, 94.4, 94.5, 94.6, 94.9, 95.0, 95.1, 95.3, 95.4, 95.6, 96.0,\n",
       "        96.1, 96.4, 96.5, 96.6, 96.9, 97.0, 97.1, 97.4, 97.5, 97.6, 97.8,\n",
       "        97.9, 98.0, 98.4, 98.9, 99.9, 100.0], dtype=object)]"
      ]
     },
     "execution_count": 77,
     "metadata": {},
     "output_type": "execute_result"
    }
   ],
   "source": [
    "enc.categories_"
   ]
  },
  {
   "cell_type": "code",
   "execution_count": 78,
   "metadata": {},
   "outputs": [
    {
     "data": {
      "text/plain": [
       "array([[0., 0., 0., ..., 0., 0., 0.],\n",
       "       [1., 0., 0., ..., 0., 0., 0.],\n",
       "       [0., 0., 0., ..., 0., 0., 0.],\n",
       "       ...,\n",
       "       [0., 0., 0., ..., 0., 0., 0.],\n",
       "       [0., 0., 0., ..., 0., 0., 0.],\n",
       "       [0., 0., 0., ..., 0., 0., 0.]])"
      ]
     },
     "execution_count": 78,
     "metadata": {},
     "output_type": "execute_result"
    }
   ],
   "source": [
    "enc.transform(x).toarray()"
   ]
  },
  {
   "cell_type": "code",
   "execution_count": 87,
   "metadata": {},
   "outputs": [
    {
     "data": {
      "text/plain": [
       "array([['Seoul', '2020-01-20', 0.7, 46.8, 0],\n",
       "       ['Busan', '2020-01-20', 5.1, 45.6, 0],\n",
       "       ['Daegu', '2020-01-20', 4.6, 44.1, 0],\n",
       "       ...,\n",
       "       ['Gyeongsangbuk-do', '2020-05-31', 18.5, 77.4, 1379],\n",
       "       ['Gyeongsangnam-do', '2020-05-31', 19.3, 71.5, 123],\n",
       "       ['Jeju-do', '2020-05-31', 19.7, 88.1, 15]], dtype=object)"
      ]
     },
     "execution_count": 87,
     "metadata": {},
     "output_type": "execute_result"
    }
   ],
   "source": [
    "z"
   ]
  },
  {
   "cell_type": "code",
   "execution_count": 88,
   "metadata": {},
   "outputs": [
    {
     "data": {
      "text/html": [
       "<div>\n",
       "<style scoped>\n",
       "    .dataframe tbody tr th:only-of-type {\n",
       "        vertical-align: middle;\n",
       "    }\n",
       "\n",
       "    .dataframe tbody tr th {\n",
       "        vertical-align: top;\n",
       "    }\n",
       "\n",
       "    .dataframe thead th {\n",
       "        text-align: right;\n",
       "    }\n",
       "</style>\n",
       "<table border=\"1\" class=\"dataframe\">\n",
       "  <thead>\n",
       "    <tr style=\"text-align: right;\">\n",
       "      <th></th>\n",
       "      <th>0</th>\n",
       "      <th>1</th>\n",
       "      <th>2</th>\n",
       "      <th>3</th>\n",
       "      <th>4</th>\n",
       "    </tr>\n",
       "  </thead>\n",
       "  <tbody>\n",
       "    <tr>\n",
       "      <th>0</th>\n",
       "      <td>Seoul</td>\n",
       "      <td>2020-01-20</td>\n",
       "      <td>0.7</td>\n",
       "      <td>46.8</td>\n",
       "      <td>0</td>\n",
       "    </tr>\n",
       "    <tr>\n",
       "      <th>1</th>\n",
       "      <td>Busan</td>\n",
       "      <td>2020-01-20</td>\n",
       "      <td>5.1</td>\n",
       "      <td>45.6</td>\n",
       "      <td>0</td>\n",
       "    </tr>\n",
       "    <tr>\n",
       "      <th>2</th>\n",
       "      <td>Daegu</td>\n",
       "      <td>2020-01-20</td>\n",
       "      <td>4.6</td>\n",
       "      <td>44.1</td>\n",
       "      <td>0</td>\n",
       "    </tr>\n",
       "    <tr>\n",
       "      <th>3</th>\n",
       "      <td>Gwangju</td>\n",
       "      <td>2020-01-20</td>\n",
       "      <td>4</td>\n",
       "      <td>63.1</td>\n",
       "      <td>0</td>\n",
       "    </tr>\n",
       "    <tr>\n",
       "      <th>4</th>\n",
       "      <td>Incheon</td>\n",
       "      <td>2020-01-20</td>\n",
       "      <td>1.2</td>\n",
       "      <td>56</td>\n",
       "      <td>1</td>\n",
       "    </tr>\n",
       "    <tr>\n",
       "      <th>...</th>\n",
       "      <td>...</td>\n",
       "      <td>...</td>\n",
       "      <td>...</td>\n",
       "      <td>...</td>\n",
       "      <td>...</td>\n",
       "    </tr>\n",
       "    <tr>\n",
       "      <th>2123</th>\n",
       "      <td>Jeollabuk-do</td>\n",
       "      <td>2020-05-31</td>\n",
       "      <td>20.9</td>\n",
       "      <td>61.8</td>\n",
       "      <td>21</td>\n",
       "    </tr>\n",
       "    <tr>\n",
       "      <th>2124</th>\n",
       "      <td>Jeollanam-do</td>\n",
       "      <td>2020-05-31</td>\n",
       "      <td>19.1</td>\n",
       "      <td>84.1</td>\n",
       "      <td>19</td>\n",
       "    </tr>\n",
       "    <tr>\n",
       "      <th>2125</th>\n",
       "      <td>Gyeongsangbuk-do</td>\n",
       "      <td>2020-05-31</td>\n",
       "      <td>18.5</td>\n",
       "      <td>77.4</td>\n",
       "      <td>1379</td>\n",
       "    </tr>\n",
       "    <tr>\n",
       "      <th>2126</th>\n",
       "      <td>Gyeongsangnam-do</td>\n",
       "      <td>2020-05-31</td>\n",
       "      <td>19.3</td>\n",
       "      <td>71.5</td>\n",
       "      <td>123</td>\n",
       "    </tr>\n",
       "    <tr>\n",
       "      <th>2127</th>\n",
       "      <td>Jeju-do</td>\n",
       "      <td>2020-05-31</td>\n",
       "      <td>19.7</td>\n",
       "      <td>88.1</td>\n",
       "      <td>15</td>\n",
       "    </tr>\n",
       "  </tbody>\n",
       "</table>\n",
       "<p>2128 rows × 5 columns</p>\n",
       "</div>"
      ],
      "text/plain": [
       "                     0           1     2     3     4\n",
       "0                Seoul  2020-01-20   0.7  46.8     0\n",
       "1                Busan  2020-01-20   5.1  45.6     0\n",
       "2                Daegu  2020-01-20   4.6  44.1     0\n",
       "3              Gwangju  2020-01-20     4  63.1     0\n",
       "4              Incheon  2020-01-20   1.2    56     1\n",
       "...                ...         ...   ...   ...   ...\n",
       "2123      Jeollabuk-do  2020-05-31  20.9  61.8    21\n",
       "2124      Jeollanam-do  2020-05-31  19.1  84.1    19\n",
       "2125  Gyeongsangbuk-do  2020-05-31  18.5  77.4  1379\n",
       "2126  Gyeongsangnam-do  2020-05-31  19.3  71.5   123\n",
       "2127           Jeju-do  2020-05-31  19.7  88.1    15\n",
       "\n",
       "[2128 rows x 5 columns]"
      ]
     },
     "execution_count": 88,
     "metadata": {},
     "output_type": "execute_result"
    }
   ],
   "source": [
    "a"
   ]
  },
  {
   "cell_type": "code",
   "execution_count": 89,
   "metadata": {},
   "outputs": [],
   "source": [
    "# z, a\n",
    "\n",
    "from sklearn.preprocessing import LabelEncoder, OneHotEncoder\n",
    "label_x = LabelEncoder()\n",
    "z[:, 0] = label_x.fit_transform(z[:, 0])\n"
   ]
  },
  {
   "cell_type": "code",
   "execution_count": 90,
   "metadata": {},
   "outputs": [
    {
     "data": {
      "text/plain": [
       "array([[14, '2020-01-20', 0.7, 46.8, 0],\n",
       "       [0, '2020-01-20', 5.1, 45.6, 0],\n",
       "       [3, '2020-01-20', 4.6, 44.1, 0],\n",
       "       ...,\n",
       "       [8, '2020-05-31', 18.5, 77.4, 1379],\n",
       "       [9, '2020-05-31', 19.3, 71.5, 123],\n",
       "       [11, '2020-05-31', 19.7, 88.1, 15]], dtype=object)"
      ]
     },
     "execution_count": 90,
     "metadata": {},
     "output_type": "execute_result"
    }
   ],
   "source": [
    "z"
   ]
  },
  {
   "cell_type": "code",
   "execution_count": 91,
   "metadata": {},
   "outputs": [
    {
     "ename": "TypeError",
     "evalue": "__init__() got an unexpected keyword argument 'categorical_feature'",
     "output_type": "error",
     "traceback": [
      "\u001b[1;31m---------------------------------------------------------------------------\u001b[0m",
      "\u001b[1;31mTypeError\u001b[0m                                 Traceback (most recent call last)",
      "\u001b[1;32m<ipython-input-91-2f5087d74def>\u001b[0m in \u001b[0;36m<module>\u001b[1;34m\u001b[0m\n\u001b[1;32m----> 1\u001b[1;33m \u001b[0monehot\u001b[0m \u001b[1;33m=\u001b[0m \u001b[0mOneHotEncoder\u001b[0m\u001b[1;33m(\u001b[0m\u001b[0mcategorical_feature\u001b[0m\u001b[1;33m=\u001b[0m\u001b[1;33m[\u001b[0m\u001b[1;36m0\u001b[0m\u001b[1;33m]\u001b[0m\u001b[1;33m)\u001b[0m\u001b[1;33m\u001b[0m\u001b[1;33m\u001b[0m\u001b[0m\n\u001b[0m\u001b[0;32m      2\u001b[0m \u001b[0mz\u001b[0m \u001b[1;33m=\u001b[0m \u001b[0monehot\u001b[0m\u001b[1;33m.\u001b[0m\u001b[0mfit_transform\u001b[0m\u001b[1;33m(\u001b[0m\u001b[0mz\u001b[0m\u001b[1;33m)\u001b[0m\u001b[1;33m.\u001b[0m\u001b[0mtoarray\u001b[0m\u001b[1;33m(\u001b[0m\u001b[1;33m)\u001b[0m\u001b[1;33m\u001b[0m\u001b[1;33m\u001b[0m\u001b[0m\n",
      "\u001b[1;32m~\\anaconda3\\lib\\site-packages\\sklearn\\utils\\validation.py\u001b[0m in \u001b[0;36minner_f\u001b[1;34m(*args, **kwargs)\u001b[0m\n\u001b[0;32m     71\u001b[0m                           FutureWarning)\n\u001b[0;32m     72\u001b[0m         \u001b[0mkwargs\u001b[0m\u001b[1;33m.\u001b[0m\u001b[0mupdate\u001b[0m\u001b[1;33m(\u001b[0m\u001b[1;33m{\u001b[0m\u001b[0mk\u001b[0m\u001b[1;33m:\u001b[0m \u001b[0marg\u001b[0m \u001b[1;32mfor\u001b[0m \u001b[0mk\u001b[0m\u001b[1;33m,\u001b[0m \u001b[0marg\u001b[0m \u001b[1;32min\u001b[0m \u001b[0mzip\u001b[0m\u001b[1;33m(\u001b[0m\u001b[0msig\u001b[0m\u001b[1;33m.\u001b[0m\u001b[0mparameters\u001b[0m\u001b[1;33m,\u001b[0m \u001b[0margs\u001b[0m\u001b[1;33m)\u001b[0m\u001b[1;33m}\u001b[0m\u001b[1;33m)\u001b[0m\u001b[1;33m\u001b[0m\u001b[1;33m\u001b[0m\u001b[0m\n\u001b[1;32m---> 73\u001b[1;33m         \u001b[1;32mreturn\u001b[0m \u001b[0mf\u001b[0m\u001b[1;33m(\u001b[0m\u001b[1;33m**\u001b[0m\u001b[0mkwargs\u001b[0m\u001b[1;33m)\u001b[0m\u001b[1;33m\u001b[0m\u001b[1;33m\u001b[0m\u001b[0m\n\u001b[0m\u001b[0;32m     74\u001b[0m     \u001b[1;32mreturn\u001b[0m \u001b[0minner_f\u001b[0m\u001b[1;33m\u001b[0m\u001b[1;33m\u001b[0m\u001b[0m\n\u001b[0;32m     75\u001b[0m \u001b[1;33m\u001b[0m\u001b[0m\n",
      "\u001b[1;31mTypeError\u001b[0m: __init__() got an unexpected keyword argument 'categorical_feature'"
     ]
    }
   ],
   "source": [
    "onehot = OneHotEncoder(categorical_feature=[0])\n",
    "z = onehot.fit_transform(z).toarray()"
   ]
  },
  {
   "cell_type": "code",
   "execution_count": 122,
   "metadata": {},
   "outputs": [],
   "source": [
    "transformer = ColumnTransformer([('one_hot_encoder', OneHotEncoder(), ['province'])],remainder='passthrough')"
   ]
  },
  {
   "cell_type": "code",
   "execution_count": 127,
   "metadata": {},
   "outputs": [
    {
     "data": {
      "text/html": [
       "<div>\n",
       "<style scoped>\n",
       "    .dataframe tbody tr th:only-of-type {\n",
       "        vertical-align: middle;\n",
       "    }\n",
       "\n",
       "    .dataframe tbody tr th {\n",
       "        vertical-align: top;\n",
       "    }\n",
       "\n",
       "    .dataframe thead th {\n",
       "        text-align: right;\n",
       "    }\n",
       "</style>\n",
       "<table border=\"1\" class=\"dataframe\">\n",
       "  <thead>\n",
       "    <tr style=\"text-align: right;\">\n",
       "      <th></th>\n",
       "      <th>province</th>\n",
       "      <th>avg_temp</th>\n",
       "      <th>avg_relative_humidity</th>\n",
       "      <th>confirmed</th>\n",
       "    </tr>\n",
       "  </thead>\n",
       "  <tbody>\n",
       "    <tr>\n",
       "      <th>0</th>\n",
       "      <td>Seoul</td>\n",
       "      <td>0.7</td>\n",
       "      <td>46.8</td>\n",
       "      <td>0</td>\n",
       "    </tr>\n",
       "    <tr>\n",
       "      <th>1</th>\n",
       "      <td>Busan</td>\n",
       "      <td>5.1</td>\n",
       "      <td>45.6</td>\n",
       "      <td>0</td>\n",
       "    </tr>\n",
       "    <tr>\n",
       "      <th>2</th>\n",
       "      <td>Daegu</td>\n",
       "      <td>4.6</td>\n",
       "      <td>44.1</td>\n",
       "      <td>0</td>\n",
       "    </tr>\n",
       "    <tr>\n",
       "      <th>3</th>\n",
       "      <td>Gwangju</td>\n",
       "      <td>4.0</td>\n",
       "      <td>63.1</td>\n",
       "      <td>0</td>\n",
       "    </tr>\n",
       "    <tr>\n",
       "      <th>4</th>\n",
       "      <td>Incheon</td>\n",
       "      <td>1.2</td>\n",
       "      <td>56.0</td>\n",
       "      <td>1</td>\n",
       "    </tr>\n",
       "    <tr>\n",
       "      <th>...</th>\n",
       "      <td>...</td>\n",
       "      <td>...</td>\n",
       "      <td>...</td>\n",
       "      <td>...</td>\n",
       "    </tr>\n",
       "    <tr>\n",
       "      <th>2123</th>\n",
       "      <td>Jeollabuk-do</td>\n",
       "      <td>20.9</td>\n",
       "      <td>61.8</td>\n",
       "      <td>21</td>\n",
       "    </tr>\n",
       "    <tr>\n",
       "      <th>2124</th>\n",
       "      <td>Jeollanam-do</td>\n",
       "      <td>19.1</td>\n",
       "      <td>84.1</td>\n",
       "      <td>19</td>\n",
       "    </tr>\n",
       "    <tr>\n",
       "      <th>2125</th>\n",
       "      <td>Gyeongsangbuk-do</td>\n",
       "      <td>18.5</td>\n",
       "      <td>77.4</td>\n",
       "      <td>1379</td>\n",
       "    </tr>\n",
       "    <tr>\n",
       "      <th>2126</th>\n",
       "      <td>Gyeongsangnam-do</td>\n",
       "      <td>19.3</td>\n",
       "      <td>71.5</td>\n",
       "      <td>123</td>\n",
       "    </tr>\n",
       "    <tr>\n",
       "      <th>2127</th>\n",
       "      <td>Jeju-do</td>\n",
       "      <td>19.7</td>\n",
       "      <td>88.1</td>\n",
       "      <td>15</td>\n",
       "    </tr>\n",
       "  </tbody>\n",
       "</table>\n",
       "<p>2128 rows × 4 columns</p>\n",
       "</div>"
      ],
      "text/plain": [
       "              province  avg_temp  avg_relative_humidity  confirmed\n",
       "0                Seoul       0.7                   46.8          0\n",
       "1                Busan       5.1                   45.6          0\n",
       "2                Daegu       4.6                   44.1          0\n",
       "3              Gwangju       4.0                   63.1          0\n",
       "4              Incheon       1.2                   56.0          1\n",
       "...                ...       ...                    ...        ...\n",
       "2123      Jeollabuk-do      20.9                   61.8         21\n",
       "2124      Jeollanam-do      19.1                   84.1         19\n",
       "2125  Gyeongsangbuk-do      18.5                   77.4       1379\n",
       "2126  Gyeongsangnam-do      19.3                   71.5        123\n",
       "2127           Jeju-do      19.7                   88.1         15\n",
       "\n",
       "[2128 rows x 4 columns]"
      ]
     },
     "execution_count": 127,
     "metadata": {},
     "output_type": "execute_result"
    }
   ],
   "source": [
    "q"
   ]
  },
  {
   "cell_type": "code",
   "execution_count": 149,
   "metadata": {},
   "outputs": [
    {
     "data": {
      "text/plain": [
       "array([['Seoul', 0.7, 46.8, 0],\n",
       "       ['Busan', 5.1, 45.6, 0],\n",
       "       ['Daegu', 4.6, 44.1, 0],\n",
       "       ...,\n",
       "       ['Gyeongsangbuk-do', 18.5, 77.4, 1379],\n",
       "       ['Gyeongsangnam-do', 19.3, 71.5, 123],\n",
       "       ['Jeju-do', 19.7, 88.1, 15]], dtype=object)"
      ]
     },
     "execution_count": 149,
     "metadata": {},
     "output_type": "execute_result"
    }
   ],
   "source": [
    "z"
   ]
  },
  {
   "cell_type": "code",
   "execution_count": 150,
   "metadata": {},
   "outputs": [],
   "source": [
    "from sklearn.preprocessing import LabelEncoder, OneHotEncoder\n",
    "label_x = LabelEncoder()\n",
    "z[:, 0] = label_x.fit_transform(z[:, 0])"
   ]
  },
  {
   "cell_type": "code",
   "execution_count": 145,
   "metadata": {},
   "outputs": [
    {
     "data": {
      "text/plain": [
       "array([[14, 0.7, 46.8, 0],\n",
       "       [0, 5.1, 45.6, 0],\n",
       "       [3, 4.6, 44.1, 0],\n",
       "       ...,\n",
       "       [8, 18.5, 77.4, 1379],\n",
       "       [9, 19.3, 71.5, 123],\n",
       "       [11, 19.7, 88.1, 15]], dtype=object)"
      ]
     },
     "execution_count": 145,
     "metadata": {},
     "output_type": "execute_result"
    }
   ],
   "source": [
    "z"
   ]
  },
  {
   "cell_type": "code",
   "execution_count": 132,
   "metadata": {},
   "outputs": [],
   "source": [
    "transformer = ColumnTransformer([('one_hot_encoder', OneHotEncoder(), [0])],remainder='passthrough')"
   ]
  },
  {
   "cell_type": "code",
   "execution_count": 140,
   "metadata": {},
   "outputs": [],
   "source": [
    "z = transformer.fit_transform(z[:]).toarray()"
   ]
  },
  {
   "cell_type": "code",
   "execution_count": 141,
   "metadata": {},
   "outputs": [
    {
     "data": {
      "text/plain": [
       "array([[0.000e+00, 0.000e+00, 0.000e+00, ..., 7.000e-01, 4.680e+01,\n",
       "        0.000e+00],\n",
       "       [1.000e+00, 0.000e+00, 0.000e+00, ..., 5.100e+00, 4.560e+01,\n",
       "        0.000e+00],\n",
       "       [0.000e+00, 0.000e+00, 0.000e+00, ..., 4.600e+00, 4.410e+01,\n",
       "        0.000e+00],\n",
       "       ...,\n",
       "       [0.000e+00, 0.000e+00, 0.000e+00, ..., 1.850e+01, 7.740e+01,\n",
       "        1.379e+03],\n",
       "       [0.000e+00, 0.000e+00, 0.000e+00, ..., 1.930e+01, 7.150e+01,\n",
       "        1.230e+02],\n",
       "       [0.000e+00, 0.000e+00, 0.000e+00, ..., 1.970e+01, 8.810e+01,\n",
       "        1.500e+01]])"
      ]
     },
     "execution_count": 141,
     "metadata": {},
     "output_type": "execute_result"
    }
   ],
   "source": [
    "z"
   ]
  },
  {
   "cell_type": "code",
   "execution_count": 164,
   "metadata": {},
   "outputs": [
    {
     "data": {
      "text/plain": [
       "<2128x19 sparse matrix of type '<class 'numpy.float64'>'\n",
       "\twith 8123 stored elements in Compressed Sparse Row format>"
      ]
     },
     "execution_count": 164,
     "metadata": {},
     "output_type": "execute_result"
    }
   ],
   "source": [
    "a = z\n",
    "a"
   ]
  },
  {
   "cell_type": "code",
   "execution_count": 153,
   "metadata": {},
   "outputs": [],
   "source": [
    "df=df.drop('date', axis=1)"
   ]
  },
  {
   "cell_type": "code",
   "execution_count": 154,
   "metadata": {},
   "outputs": [
    {
     "data": {
      "text/html": [
       "<div>\n",
       "<style scoped>\n",
       "    .dataframe tbody tr th:only-of-type {\n",
       "        vertical-align: middle;\n",
       "    }\n",
       "\n",
       "    .dataframe tbody tr th {\n",
       "        vertical-align: top;\n",
       "    }\n",
       "\n",
       "    .dataframe thead th {\n",
       "        text-align: right;\n",
       "    }\n",
       "</style>\n",
       "<table border=\"1\" class=\"dataframe\">\n",
       "  <thead>\n",
       "    <tr style=\"text-align: right;\">\n",
       "      <th></th>\n",
       "      <th>province</th>\n",
       "      <th>avg_temp</th>\n",
       "      <th>avg_relative_humidity</th>\n",
       "      <th>confirmed</th>\n",
       "    </tr>\n",
       "  </thead>\n",
       "  <tbody>\n",
       "    <tr>\n",
       "      <th>0</th>\n",
       "      <td>Seoul</td>\n",
       "      <td>0.7</td>\n",
       "      <td>46.8</td>\n",
       "      <td>0</td>\n",
       "    </tr>\n",
       "    <tr>\n",
       "      <th>1</th>\n",
       "      <td>Busan</td>\n",
       "      <td>5.1</td>\n",
       "      <td>45.6</td>\n",
       "      <td>0</td>\n",
       "    </tr>\n",
       "    <tr>\n",
       "      <th>2</th>\n",
       "      <td>Daegu</td>\n",
       "      <td>4.6</td>\n",
       "      <td>44.1</td>\n",
       "      <td>0</td>\n",
       "    </tr>\n",
       "    <tr>\n",
       "      <th>3</th>\n",
       "      <td>Gwangju</td>\n",
       "      <td>4.0</td>\n",
       "      <td>63.1</td>\n",
       "      <td>0</td>\n",
       "    </tr>\n",
       "    <tr>\n",
       "      <th>4</th>\n",
       "      <td>Incheon</td>\n",
       "      <td>1.2</td>\n",
       "      <td>56.0</td>\n",
       "      <td>1</td>\n",
       "    </tr>\n",
       "    <tr>\n",
       "      <th>...</th>\n",
       "      <td>...</td>\n",
       "      <td>...</td>\n",
       "      <td>...</td>\n",
       "      <td>...</td>\n",
       "    </tr>\n",
       "    <tr>\n",
       "      <th>2123</th>\n",
       "      <td>Jeollabuk-do</td>\n",
       "      <td>20.9</td>\n",
       "      <td>61.8</td>\n",
       "      <td>21</td>\n",
       "    </tr>\n",
       "    <tr>\n",
       "      <th>2124</th>\n",
       "      <td>Jeollanam-do</td>\n",
       "      <td>19.1</td>\n",
       "      <td>84.1</td>\n",
       "      <td>19</td>\n",
       "    </tr>\n",
       "    <tr>\n",
       "      <th>2125</th>\n",
       "      <td>Gyeongsangbuk-do</td>\n",
       "      <td>18.5</td>\n",
       "      <td>77.4</td>\n",
       "      <td>1379</td>\n",
       "    </tr>\n",
       "    <tr>\n",
       "      <th>2126</th>\n",
       "      <td>Gyeongsangnam-do</td>\n",
       "      <td>19.3</td>\n",
       "      <td>71.5</td>\n",
       "      <td>123</td>\n",
       "    </tr>\n",
       "    <tr>\n",
       "      <th>2127</th>\n",
       "      <td>Jeju-do</td>\n",
       "      <td>19.7</td>\n",
       "      <td>88.1</td>\n",
       "      <td>15</td>\n",
       "    </tr>\n",
       "  </tbody>\n",
       "</table>\n",
       "<p>2128 rows × 4 columns</p>\n",
       "</div>"
      ],
      "text/plain": [
       "              province  avg_temp  avg_relative_humidity  confirmed\n",
       "0                Seoul       0.7                   46.8          0\n",
       "1                Busan       5.1                   45.6          0\n",
       "2                Daegu       4.6                   44.1          0\n",
       "3              Gwangju       4.0                   63.1          0\n",
       "4              Incheon       1.2                   56.0          1\n",
       "...                ...       ...                    ...        ...\n",
       "2123      Jeollabuk-do      20.9                   61.8         21\n",
       "2124      Jeollanam-do      19.1                   84.1         19\n",
       "2125  Gyeongsangbuk-do      18.5                   77.4       1379\n",
       "2126  Gyeongsangnam-do      19.3                   71.5        123\n",
       "2127           Jeju-do      19.7                   88.1         15\n",
       "\n",
       "[2128 rows x 4 columns]"
      ]
     },
     "execution_count": 154,
     "metadata": {},
     "output_type": "execute_result"
    }
   ],
   "source": [
    "df"
   ]
  },
  {
   "cell_type": "code",
   "execution_count": null,
   "metadata": {},
   "outputs": [],
   "source": [
    "category_onehot=OneHotEncoder(categories=[pro])"
   ]
  },
  {
   "cell_type": "code",
   "execution_count": 157,
   "metadata": {},
   "outputs": [],
   "source": [
    "df2 = df"
   ]
  },
  {
   "cell_type": "code",
   "execution_count": 158,
   "metadata": {},
   "outputs": [
    {
     "data": {
      "text/html": [
       "<div>\n",
       "<style scoped>\n",
       "    .dataframe tbody tr th:only-of-type {\n",
       "        vertical-align: middle;\n",
       "    }\n",
       "\n",
       "    .dataframe tbody tr th {\n",
       "        vertical-align: top;\n",
       "    }\n",
       "\n",
       "    .dataframe thead th {\n",
       "        text-align: right;\n",
       "    }\n",
       "</style>\n",
       "<table border=\"1\" class=\"dataframe\">\n",
       "  <thead>\n",
       "    <tr style=\"text-align: right;\">\n",
       "      <th></th>\n",
       "      <th>province</th>\n",
       "      <th>avg_temp</th>\n",
       "      <th>avg_relative_humidity</th>\n",
       "      <th>confirmed</th>\n",
       "    </tr>\n",
       "  </thead>\n",
       "  <tbody>\n",
       "    <tr>\n",
       "      <th>0</th>\n",
       "      <td>Seoul</td>\n",
       "      <td>0.7</td>\n",
       "      <td>46.8</td>\n",
       "      <td>0</td>\n",
       "    </tr>\n",
       "    <tr>\n",
       "      <th>1</th>\n",
       "      <td>Busan</td>\n",
       "      <td>5.1</td>\n",
       "      <td>45.6</td>\n",
       "      <td>0</td>\n",
       "    </tr>\n",
       "    <tr>\n",
       "      <th>2</th>\n",
       "      <td>Daegu</td>\n",
       "      <td>4.6</td>\n",
       "      <td>44.1</td>\n",
       "      <td>0</td>\n",
       "    </tr>\n",
       "    <tr>\n",
       "      <th>3</th>\n",
       "      <td>Gwangju</td>\n",
       "      <td>4.0</td>\n",
       "      <td>63.1</td>\n",
       "      <td>0</td>\n",
       "    </tr>\n",
       "    <tr>\n",
       "      <th>4</th>\n",
       "      <td>Incheon</td>\n",
       "      <td>1.2</td>\n",
       "      <td>56.0</td>\n",
       "      <td>1</td>\n",
       "    </tr>\n",
       "    <tr>\n",
       "      <th>...</th>\n",
       "      <td>...</td>\n",
       "      <td>...</td>\n",
       "      <td>...</td>\n",
       "      <td>...</td>\n",
       "    </tr>\n",
       "    <tr>\n",
       "      <th>2123</th>\n",
       "      <td>Jeollabuk-do</td>\n",
       "      <td>20.9</td>\n",
       "      <td>61.8</td>\n",
       "      <td>21</td>\n",
       "    </tr>\n",
       "    <tr>\n",
       "      <th>2124</th>\n",
       "      <td>Jeollanam-do</td>\n",
       "      <td>19.1</td>\n",
       "      <td>84.1</td>\n",
       "      <td>19</td>\n",
       "    </tr>\n",
       "    <tr>\n",
       "      <th>2125</th>\n",
       "      <td>Gyeongsangbuk-do</td>\n",
       "      <td>18.5</td>\n",
       "      <td>77.4</td>\n",
       "      <td>1379</td>\n",
       "    </tr>\n",
       "    <tr>\n",
       "      <th>2126</th>\n",
       "      <td>Gyeongsangnam-do</td>\n",
       "      <td>19.3</td>\n",
       "      <td>71.5</td>\n",
       "      <td>123</td>\n",
       "    </tr>\n",
       "    <tr>\n",
       "      <th>2127</th>\n",
       "      <td>Jeju-do</td>\n",
       "      <td>19.7</td>\n",
       "      <td>88.1</td>\n",
       "      <td>15</td>\n",
       "    </tr>\n",
       "  </tbody>\n",
       "</table>\n",
       "<p>2128 rows × 4 columns</p>\n",
       "</div>"
      ],
      "text/plain": [
       "              province  avg_temp  avg_relative_humidity  confirmed\n",
       "0                Seoul       0.7                   46.8          0\n",
       "1                Busan       5.1                   45.6          0\n",
       "2                Daegu       4.6                   44.1          0\n",
       "3              Gwangju       4.0                   63.1          0\n",
       "4              Incheon       1.2                   56.0          1\n",
       "...                ...       ...                    ...        ...\n",
       "2123      Jeollabuk-do      20.9                   61.8         21\n",
       "2124      Jeollanam-do      19.1                   84.1         19\n",
       "2125  Gyeongsangbuk-do      18.5                   77.4       1379\n",
       "2126  Gyeongsangnam-do      19.3                   71.5        123\n",
       "2127           Jeju-do      19.7                   88.1         15\n",
       "\n",
       "[2128 rows x 4 columns]"
      ]
     },
     "execution_count": 158,
     "metadata": {},
     "output_type": "execute_result"
    }
   ],
   "source": [
    "df2"
   ]
  },
  {
   "cell_type": "code",
   "execution_count": 160,
   "metadata": {},
   "outputs": [
    {
     "name": "stdout",
     "output_type": "stream",
     "text": [
      "  (0, 14)\t1.0\n",
      "  (0, 16)\t0.7\n",
      "  (0, 17)\t46.8\n",
      "  (1, 0)\t1.0\n",
      "  (1, 16)\t5.1\n",
      "  (1, 17)\t45.6\n",
      "  (2, 3)\t1.0\n",
      "  (2, 16)\t4.6\n",
      "  (2, 17)\t44.1\n",
      "  (3, 6)\t1.0\n",
      "  (3, 16)\t4.0\n",
      "  (3, 17)\t63.1\n",
      "  (4, 10)\t1.0\n",
      "  (4, 16)\t1.2\n",
      "  (4, 17)\t56.0\n",
      "  (4, 18)\t1.0\n",
      "  (5, 4)\t1.0\n",
      "  (5, 16)\t3.4\n",
      "  (5, 17)\t57.3\n",
      "  (6, 15)\t1.0\n",
      "  (6, 16)\t4.3\n",
      "  (6, 17)\t48.5\n",
      "  (7, 7)\t1.0\n",
      "  (7, 16)\t1.2\n",
      "  (7, 17)\t68.5\n",
      "  :\t:\n",
      "  (2121, 18)\t60.0\n",
      "  (2122, 2)\t1.0\n",
      "  (2122, 16)\t19.9\n",
      "  (2122, 17)\t66.5\n",
      "  (2122, 18)\t146.0\n",
      "  (2123, 12)\t1.0\n",
      "  (2123, 16)\t20.9\n",
      "  (2123, 17)\t61.8\n",
      "  (2123, 18)\t21.0\n",
      "  (2124, 13)\t1.0\n",
      "  (2124, 16)\t19.1\n",
      "  (2124, 17)\t84.1\n",
      "  (2124, 18)\t19.0\n",
      "  (2125, 8)\t1.0\n",
      "  (2125, 16)\t18.5\n",
      "  (2125, 17)\t77.4\n",
      "  (2125, 18)\t1379.0\n",
      "  (2126, 9)\t1.0\n",
      "  (2126, 16)\t19.3\n",
      "  (2126, 17)\t71.5\n",
      "  (2126, 18)\t123.0\n",
      "  (2127, 11)\t1.0\n",
      "  (2127, 16)\t19.7\n",
      "  (2127, 17)\t88.1\n",
      "  (2127, 18)\t15.0\n"
     ]
    }
   ],
   "source": [
    "laberEncoder_X = LabelEncoder()\n",
    "z[:,0] = laberEncoder_X.fit_transform(z[:,0])\n",
    "transform = ColumnTransformer([(\"province\", OneHotEncoder(), [0])], remainder=\"passthrough\")\n",
    "z = transform.fit_transform(z)\n",
    "print (z)"
   ]
  },
  {
   "cell_type": "code",
   "execution_count": 161,
   "metadata": {},
   "outputs": [
    {
     "data": {
      "text/plain": [
       "<2128x19 sparse matrix of type '<class 'numpy.float64'>'\n",
       "\twith 8123 stored elements in Compressed Sparse Row format>"
      ]
     },
     "execution_count": 161,
     "metadata": {},
     "output_type": "execute_result"
    }
   ],
   "source": [
    "z"
   ]
  },
  {
   "cell_type": "code",
   "execution_count": 162,
   "metadata": {},
   "outputs": [],
   "source": [
    "c = z.toarray()"
   ]
  },
  {
   "cell_type": "code",
   "execution_count": 163,
   "metadata": {},
   "outputs": [
    {
     "data": {
      "text/plain": [
       "array([[0.000e+00, 0.000e+00, 0.000e+00, ..., 7.000e-01, 4.680e+01,\n",
       "        0.000e+00],\n",
       "       [1.000e+00, 0.000e+00, 0.000e+00, ..., 5.100e+00, 4.560e+01,\n",
       "        0.000e+00],\n",
       "       [0.000e+00, 0.000e+00, 0.000e+00, ..., 4.600e+00, 4.410e+01,\n",
       "        0.000e+00],\n",
       "       ...,\n",
       "       [0.000e+00, 0.000e+00, 0.000e+00, ..., 1.850e+01, 7.740e+01,\n",
       "        1.379e+03],\n",
       "       [0.000e+00, 0.000e+00, 0.000e+00, ..., 1.930e+01, 7.150e+01,\n",
       "        1.230e+02],\n",
       "       [0.000e+00, 0.000e+00, 0.000e+00, ..., 1.970e+01, 8.810e+01,\n",
       "        1.500e+01]])"
      ]
     },
     "execution_count": 163,
     "metadata": {},
     "output_type": "execute_result"
    }
   ],
   "source": [
    "c"
   ]
  },
  {
   "cell_type": "code",
   "execution_count": 165,
   "metadata": {},
   "outputs": [
    {
     "data": {
      "text/plain": [
       "array([ 0. ,  0. ,  0. ,  0. ,  0. ,  0. ,  0. ,  0. ,  0. ,  0. ,  0. ,\n",
       "        0. ,  0. ,  0. ,  1. ,  0. ,  0.7, 46.8,  0. ])"
      ]
     },
     "execution_count": 165,
     "metadata": {},
     "output_type": "execute_result"
    }
   ],
   "source": [
    "c[0]"
   ]
  },
  {
   "cell_type": "code",
   "execution_count": 166,
   "metadata": {},
   "outputs": [
    {
     "data": {
      "text/plain": [
       "<1x19 sparse matrix of type '<class 'numpy.float64'>'\n",
       "\twith 3 stored elements in Compressed Sparse Row format>"
      ]
     },
     "execution_count": 166,
     "metadata": {},
     "output_type": "execute_result"
    }
   ],
   "source": [
    "z[0]"
   ]
  },
  {
   "cell_type": "code",
   "execution_count": 167,
   "metadata": {},
   "outputs": [
    {
     "data": {
      "text/plain": [
       "array([[0.000e+00, 0.000e+00, 0.000e+00, ..., 7.000e-01, 4.680e+01,\n",
       "        0.000e+00],\n",
       "       [1.000e+00, 0.000e+00, 0.000e+00, ..., 5.100e+00, 4.560e+01,\n",
       "        0.000e+00],\n",
       "       [0.000e+00, 0.000e+00, 0.000e+00, ..., 4.600e+00, 4.410e+01,\n",
       "        0.000e+00],\n",
       "       ...,\n",
       "       [0.000e+00, 0.000e+00, 0.000e+00, ..., 1.850e+01, 7.740e+01,\n",
       "        1.379e+03],\n",
       "       [0.000e+00, 0.000e+00, 0.000e+00, ..., 1.930e+01, 7.150e+01,\n",
       "        1.230e+02],\n",
       "       [0.000e+00, 0.000e+00, 0.000e+00, ..., 1.970e+01, 8.810e+01,\n",
       "        1.500e+01]])"
      ]
     },
     "execution_count": 167,
     "metadata": {},
     "output_type": "execute_result"
    }
   ],
   "source": [
    "c"
   ]
  },
  {
   "cell_type": "code",
   "execution_count": 168,
   "metadata": {},
   "outputs": [
    {
     "data": {
      "text/plain": [
       "array([ 0. ,  0. ,  0. ,  0. ,  0. ,  0. ,  0. ,  0. ,  0. ,  0. ,  0. ,\n",
       "        0. ,  0. ,  0. ,  1. ,  0. ,  0.7, 46.8,  0. ])"
      ]
     },
     "execution_count": 168,
     "metadata": {},
     "output_type": "execute_result"
    }
   ],
   "source": [
    "c[0]"
   ]
  },
  {
   "cell_type": "code",
   "execution_count": 169,
   "metadata": {},
   "outputs": [],
   "source": [
    "from sklearn.preprocessing import StandardScaler\n",
    "\n",
    "prepro = make_column_transformer(\n",
    "    (StandardScaler(), ['avg_temp', 'avg_relative_humidity', 'confirmed'])\n",
    ")"
   ]
  },
  {
   "cell_type": "code",
   "execution_count": 170,
   "metadata": {},
   "outputs": [
    {
     "data": {
      "text/plain": [
       "array([[0.000e+00, 0.000e+00, 0.000e+00, ..., 7.000e-01, 4.680e+01,\n",
       "        0.000e+00],\n",
       "       [1.000e+00, 0.000e+00, 0.000e+00, ..., 5.100e+00, 4.560e+01,\n",
       "        0.000e+00],\n",
       "       [0.000e+00, 0.000e+00, 0.000e+00, ..., 4.600e+00, 4.410e+01,\n",
       "        0.000e+00],\n",
       "       ...,\n",
       "       [0.000e+00, 0.000e+00, 0.000e+00, ..., 1.850e+01, 7.740e+01,\n",
       "        1.379e+03],\n",
       "       [0.000e+00, 0.000e+00, 0.000e+00, ..., 1.930e+01, 7.150e+01,\n",
       "        1.230e+02],\n",
       "       [0.000e+00, 0.000e+00, 0.000e+00, ..., 1.970e+01, 8.810e+01,\n",
       "        1.500e+01]])"
      ]
     },
     "execution_count": 170,
     "metadata": {},
     "output_type": "execute_result"
    }
   ],
   "source": [
    "c"
   ]
  },
  {
   "cell_type": "code",
   "execution_count": 171,
   "metadata": {},
   "outputs": [],
   "source": [
    "d = c"
   ]
  },
  {
   "cell_type": "code",
   "execution_count": 172,
   "metadata": {},
   "outputs": [
    {
     "data": {
      "text/plain": [
       "array([[0.000e+00, 0.000e+00, 0.000e+00, ..., 7.000e-01, 4.680e+01,\n",
       "        0.000e+00],\n",
       "       [1.000e+00, 0.000e+00, 0.000e+00, ..., 5.100e+00, 4.560e+01,\n",
       "        0.000e+00],\n",
       "       [0.000e+00, 0.000e+00, 0.000e+00, ..., 4.600e+00, 4.410e+01,\n",
       "        0.000e+00],\n",
       "       ...,\n",
       "       [0.000e+00, 0.000e+00, 0.000e+00, ..., 1.850e+01, 7.740e+01,\n",
       "        1.379e+03],\n",
       "       [0.000e+00, 0.000e+00, 0.000e+00, ..., 1.930e+01, 7.150e+01,\n",
       "        1.230e+02],\n",
       "       [0.000e+00, 0.000e+00, 0.000e+00, ..., 1.970e+01, 8.810e+01,\n",
       "        1.500e+01]])"
      ]
     },
     "execution_count": 172,
     "metadata": {},
     "output_type": "execute_result"
    }
   ],
   "source": [
    "d"
   ]
  },
  {
   "cell_type": "code",
   "execution_count": 174,
   "metadata": {},
   "outputs": [
    {
     "data": {
      "text/plain": [
       "array([[0.000e+00, 0.000e+00, 0.000e+00, ..., 7.000e-01, 4.680e+01,\n",
       "        0.000e+00],\n",
       "       [1.000e+00, 0.000e+00, 0.000e+00, ..., 5.100e+00, 4.560e+01,\n",
       "        0.000e+00],\n",
       "       [0.000e+00, 0.000e+00, 0.000e+00, ..., 4.600e+00, 4.410e+01,\n",
       "        0.000e+00],\n",
       "       ...,\n",
       "       [0.000e+00, 0.000e+00, 0.000e+00, ..., 1.850e+01, 7.740e+01,\n",
       "        1.379e+03],\n",
       "       [0.000e+00, 0.000e+00, 0.000e+00, ..., 1.930e+01, 7.150e+01,\n",
       "        1.230e+02],\n",
       "       [0.000e+00, 0.000e+00, 0.000e+00, ..., 1.970e+01, 8.810e+01,\n",
       "        1.500e+01]])"
      ]
     },
     "execution_count": 174,
     "metadata": {},
     "output_type": "execute_result"
    }
   ],
   "source": [
    "c"
   ]
  },
  {
   "cell_type": "code",
   "execution_count": 175,
   "metadata": {},
   "outputs": [
    {
     "data": {
      "text/plain": [
       "array([ 0. ,  0. ,  0. ,  0. ,  0. ,  0. ,  0. ,  0. ,  0. ,  0. ,  0. ,\n",
       "        0. ,  0. ,  0. ,  1. ,  0. ,  0.7, 46.8,  0. ])"
      ]
     },
     "execution_count": 175,
     "metadata": {},
     "output_type": "execute_result"
    }
   ],
   "source": [
    "c[0]"
   ]
  },
  {
   "cell_type": "code",
   "execution_count": 179,
   "metadata": {},
   "outputs": [
    {
     "name": "stdout",
     "output_type": "stream",
     "text": [
      "True\n"
     ]
    }
   ],
   "source": [
    "import numpy as np\n",
    "from sklearn.preprocessing import normalize\n",
    "\n",
    "d = np.random.rand(1000)*10\n",
    "norm1 =d / np.linalg.norm(d)\n",
    "norm2 = normalize(d[:, np.newaxis], axis=0).ravel()\n",
    "print(np.all(norm1 == norm2))"
   ]
  },
  {
   "cell_type": "code",
   "execution_count": 180,
   "metadata": {},
   "outputs": [
    {
     "data": {
      "text/plain": [
       "array([3.45073645, 1.32841846, 5.31686932, 3.65648132, 1.07196717,\n",
       "       8.00942948, 0.76699394, 2.26804885, 2.11304804, 0.66738011,\n",
       "       9.6602072 , 3.97083079, 9.85842534, 0.06819263, 5.8211754 ,\n",
       "       7.81956333, 9.96361236, 8.283082  , 6.72472419, 4.61622284,\n",
       "       3.94466505, 5.20364555, 7.03011568, 9.0271436 , 1.37315932,\n",
       "       8.11727528, 4.36041636, 0.09292095, 8.94697502, 7.72696049,\n",
       "       6.76428744, 2.22455838, 0.96308448, 4.58998257, 5.15564571,\n",
       "       4.14033463, 5.02661837, 9.68805098, 4.94816488, 4.77507567,\n",
       "       9.05222623, 9.86918526, 0.08327527, 8.47269461, 5.10140422,\n",
       "       3.99213215, 4.94563214, 6.02924648, 4.29555917, 7.91399895,\n",
       "       0.39738706, 6.82094407, 1.45001602, 0.98917784, 9.86252182,\n",
       "       7.82836825, 1.12778814, 9.51359347, 5.26253696, 2.1652787 ,\n",
       "       4.02275297, 6.02435845, 5.25123645, 2.57859112, 5.08591737,\n",
       "       0.42997492, 0.48799109, 2.66000247, 2.07054803, 4.30887028,\n",
       "       9.41991329, 9.78892809, 8.50026551, 3.26061108, 9.12621243,\n",
       "       9.47541582, 1.8520112 , 8.51381912, 0.7777445 , 2.18646986,\n",
       "       8.78664397, 7.51489318, 1.9818332 , 7.94874259, 0.16879147,\n",
       "       7.54725455, 8.78359484, 8.55773307, 3.4503167 , 5.68735508,\n",
       "       7.90948769, 5.48699694, 4.81898672, 2.19598544, 7.18973748,\n",
       "       4.12525502, 2.79518463, 7.27556336, 7.67889531, 1.01103823,\n",
       "       8.9261363 , 8.26516728, 8.28104245, 1.10982428, 7.55937365,\n",
       "       3.44125862, 5.20012336, 7.38326251, 5.01160513, 6.16432537,\n",
       "       9.85494772, 5.08529763, 1.32060662, 4.04670323, 7.30822935,\n",
       "       8.31096377, 1.94521006, 3.86280521, 9.43154661, 2.08312062,\n",
       "       8.65787701, 8.96789344, 0.12768128, 1.99371733, 5.37967923,\n",
       "       8.24290072, 5.22357474, 2.62410915, 1.30546775, 6.41615288,\n",
       "       5.16302103, 9.59638938, 5.77104957, 3.03279239, 3.41982385,\n",
       "       3.70029918, 6.63211677, 8.09415371, 2.12535702, 3.78509494,\n",
       "       8.09970185, 1.30145342, 7.78222637, 6.94275897, 9.08405253,\n",
       "       1.70318388, 4.01345156, 5.93816098, 2.99535819, 0.73412858,\n",
       "       2.51615571, 6.65332016, 2.18169217, 4.31051874, 8.65666499,\n",
       "       8.56154369, 4.6210061 , 8.98683594, 2.68776245, 8.75541128,\n",
       "       4.89356522, 3.6193939 , 2.45255312, 3.70499731, 5.66368543,\n",
       "       1.32545488, 0.17673907, 1.88889692, 8.73233889, 1.93902237,\n",
       "       6.88897851, 3.55889642, 7.84344561, 1.77467448, 2.35292099,\n",
       "       7.49230958, 4.71099255, 3.92689973, 6.10027507, 3.55552486,\n",
       "       4.78832234, 3.92542294, 8.72451504, 8.59146812, 2.53170617,\n",
       "       4.44123311, 1.81898766, 1.30880429, 7.10462745, 0.32580938,\n",
       "       8.65453374, 1.26799005, 2.56803072, 3.13539362, 6.97357048,\n",
       "       8.78292998, 8.88821623, 3.36651195, 4.52981469, 8.69833132,\n",
       "       2.33939775, 9.5786824 , 2.2545745 , 8.45354683, 6.78499804,\n",
       "       2.07214559, 8.1844445 , 2.0244373 , 1.65582047, 7.10522553,\n",
       "       0.86807226, 6.81534172, 6.60649725, 1.63840816, 0.24139156,\n",
       "       2.24721511, 4.98884718, 0.49485395, 2.06430569, 2.02908085,\n",
       "       3.33410732, 8.59767529, 4.35340589, 8.86781654, 1.89704431,\n",
       "       5.94969788, 1.38233094, 9.20617192, 4.18248306, 7.45013649,\n",
       "       7.71148145, 8.60392335, 9.82183195, 9.90875546, 0.46462539,\n",
       "       0.52207261, 8.94081988, 5.45525436, 6.65018862, 8.53209296,\n",
       "       1.32683071, 7.43982005, 7.70330082, 6.45800923, 6.03662005,\n",
       "       7.32480381, 1.93739381, 4.14204347, 9.76836256, 8.37789947,\n",
       "       9.22089279, 6.60954412, 9.58813403, 6.12852067, 9.75402111,\n",
       "       4.62215088, 7.87492292, 3.31107848, 7.13912903, 8.48947231,\n",
       "       1.01687864, 3.17733361, 2.62558528, 5.51920793, 0.11933142,\n",
       "       3.54089364, 4.45843337, 7.89579814, 8.79495697, 3.50228342,\n",
       "       2.80478065, 1.43355508, 2.79822451, 6.92412449, 0.75173466,\n",
       "       3.76830445, 0.44554487, 0.06869857, 7.15635807, 6.43650552,\n",
       "       3.02364168, 6.32328421, 8.80267204, 2.87154965, 9.63348203,\n",
       "       8.44361982, 5.06974553, 4.40833838, 9.18978949, 9.34760857,\n",
       "       6.77082164, 7.38663907, 1.17790676, 7.35890285, 8.69721199,\n",
       "       5.65484404, 3.43876578, 8.31764586, 6.57680147, 2.79119197,\n",
       "       0.91670694, 6.21123707, 4.33213334, 2.19682304, 6.74885588,\n",
       "       8.50377512, 9.52652738, 7.36447368, 7.74186987, 2.61854518,\n",
       "       6.67414173, 9.34017482, 1.94576045, 7.35198592, 2.28828218,\n",
       "       8.46991824, 4.29201558, 9.01444705, 6.19747085, 4.60205942,\n",
       "       6.57170972, 3.80385569, 4.40367306, 5.67893077, 6.807842  ,\n",
       "       5.69910411, 6.72491129, 0.49524108, 2.44510703, 3.59477028,\n",
       "       2.42001733, 3.68407461, 4.46691686, 3.70639511, 5.62452886,\n",
       "       6.79558982, 5.27915934, 7.17696239, 7.08632765, 2.0280068 ,\n",
       "       9.56522394, 1.1492383 , 1.9234434 , 8.45096225, 2.44696381,\n",
       "       8.16858891, 6.34947872, 0.04087538, 5.55474362, 9.28801819,\n",
       "       6.52860924, 5.17863754, 4.08654443, 1.71068063, 0.4157476 ,\n",
       "       5.29812002, 7.28640031, 3.51310021, 9.25950986, 0.57608817,\n",
       "       3.60292887, 2.13259409, 2.20756189, 4.11428132, 9.76110802,\n",
       "       9.93834113, 3.43824438, 8.19115005, 3.94947331, 1.5996653 ,\n",
       "       1.56962365, 9.82720358, 6.61260027, 0.38302629, 4.94071721,\n",
       "       3.2370579 , 4.83279305, 4.74709918, 4.31472349, 8.31343294,\n",
       "       9.29361524, 6.21733664, 4.16282943, 0.47578425, 0.47870144,\n",
       "       8.22918873, 3.90829952, 0.28071017, 2.63227982, 8.54160943,\n",
       "       1.51675876, 2.84345805, 9.62612234, 0.62502168, 4.72757956,\n",
       "       9.61318087, 4.41849667, 6.80402593, 4.87518828, 1.92056987,\n",
       "       1.49427109, 2.19058889, 5.40598648, 2.92873206, 9.34923381,\n",
       "       9.20909902, 5.60365848, 4.13691267, 5.63596498, 1.123395  ,\n",
       "       3.43027463, 2.8138505 , 0.01443643, 1.76462764, 7.26317389,\n",
       "       6.52742747, 4.79072369, 9.23691432, 4.19842149, 6.60220403,\n",
       "       4.3752848 , 9.74007795, 3.64850971, 5.23712831, 3.54415339,\n",
       "       1.23914413, 2.07164418, 8.63498249, 3.43488516, 8.74978658,\n",
       "       1.96366049, 5.7296867 , 9.13917769, 3.95735035, 9.23135143,\n",
       "       7.06282378, 8.34376697, 8.41135848, 3.22873884, 2.8870301 ,\n",
       "       8.19444241, 7.05211897, 8.87436628, 1.97315816, 2.26930102,\n",
       "       8.53045485, 9.54482687, 1.46657031, 2.20976939, 2.4216058 ,\n",
       "       8.37103838, 2.19650421, 6.68529948, 7.77122731, 3.16492045,\n",
       "       1.05720372, 3.84883979, 5.35229974, 0.29374937, 4.49336982,\n",
       "       7.86771997, 5.28248463, 0.54777023, 4.96955985, 1.74470825,\n",
       "       5.29736167, 1.24563301, 0.15125489, 9.18564771, 3.28721309,\n",
       "       6.24280189, 1.18209049, 4.87702388, 2.17893839, 7.65019665,\n",
       "       7.12461296, 9.08962988, 8.16624168, 1.17436259, 8.88526072,\n",
       "       3.15223472, 3.82645101, 0.36489126, 1.32179618, 9.83155384,\n",
       "       5.22526149, 7.02370694, 2.48312582, 9.28005429, 9.05686223,\n",
       "       9.62752264, 6.79751715, 1.22275021, 4.81610596, 0.40053323,\n",
       "       4.06602463, 6.05674906, 7.76672575, 1.92915145, 3.30701027,\n",
       "       1.88130172, 0.59212743, 4.05637833, 4.73393061, 9.82992297,\n",
       "       7.71029362, 9.14825171, 5.47114523, 6.19343048, 3.01185716,\n",
       "       4.64809416, 7.94434648, 7.99182558, 6.29109951, 1.50926888,\n",
       "       5.08914689, 4.00344959, 1.10478954, 9.98986171, 2.56398176,\n",
       "       1.35387095, 4.68500111, 9.5805632 , 0.22032117, 4.7398825 ,\n",
       "       9.38201223, 5.19318988, 1.86924613, 4.51896171, 9.83482938,\n",
       "       9.37126092, 9.25347657, 2.17502136, 9.79667546, 8.96673046,\n",
       "       0.84560466, 9.14657389, 5.21141771, 8.28724739, 2.04495155,\n",
       "       3.94841362, 4.00581667, 3.56842296, 4.16278932, 0.59089928,\n",
       "       8.08620608, 8.11669086, 0.92707004, 4.41710663, 6.94751788,\n",
       "       8.73334955, 7.95077014, 8.70125341, 0.51262679, 7.52255683,\n",
       "       7.68141471, 0.54494963, 3.11951188, 3.96355418, 4.69004497,\n",
       "       3.99440301, 3.40820052, 3.9752872 , 2.26777853, 9.53375368,\n",
       "       0.58032497, 2.12129458, 0.9768893 , 1.01535874, 9.16840009,\n",
       "       7.4860735 , 9.97214995, 2.93592825, 3.63211611, 8.95743653,\n",
       "       9.62583064, 2.00258305, 4.62294715, 6.77129285, 3.74295104,\n",
       "       7.85216831, 9.45938288, 2.4335555 , 7.56594182, 5.54107634,\n",
       "       3.24000375, 7.21919493, 4.6414662 , 6.54497186, 9.41510598,\n",
       "       2.59986024, 0.37172051, 0.49572677, 2.81545407, 9.81003713,\n",
       "       2.12334051, 0.88441785, 4.39834795, 5.07512949, 8.07915187,\n",
       "       2.11074718, 2.8854978 , 2.41984785, 4.0193872 , 1.44301994,\n",
       "       4.31583581, 1.6964304 , 9.8452366 , 0.14054259, 2.4370451 ,\n",
       "       5.234906  , 5.87515159, 2.92273465, 2.36770951, 8.7617358 ,\n",
       "       5.98661949, 0.9176121 , 7.06265153, 9.05071675, 8.40919262,\n",
       "       2.139202  , 8.48430525, 8.82604405, 4.5146043 , 8.69978051,\n",
       "       2.44250083, 3.6369943 , 5.09345827, 6.35451383, 5.96841406,\n",
       "       4.29895121, 8.84669452, 9.91915428, 8.50776613, 7.75909702,\n",
       "       4.88798995, 2.67984965, 3.29903656, 1.07659346, 2.86536746,\n",
       "       1.79796797, 9.29064739, 9.95953503, 6.40627378, 5.14842941,\n",
       "       9.45710683, 5.35910533, 4.93259545, 0.5694413 , 5.08990125,\n",
       "       0.9426143 , 0.54370882, 7.92764673, 0.0280254 , 2.70704885,\n",
       "       9.2948158 , 8.97224214, 7.42991883, 5.05838033, 9.74099304,\n",
       "       4.16123719, 6.84643311, 9.24409781, 4.87723607, 6.62552538,\n",
       "       8.44528422, 3.92464704, 2.31831931, 4.04068187, 1.23540725,\n",
       "       3.89747959, 3.10665858, 3.94853011, 3.43625874, 9.99558281,\n",
       "       3.87486062, 1.71341376, 9.34684216, 3.78054795, 3.30042866,\n",
       "       3.38435871, 9.50275816, 9.53462496, 1.69478944, 8.77251863,\n",
       "       3.10809917, 4.5461933 , 6.63622117, 7.23758466, 3.62831195,\n",
       "       2.94351753, 9.18750897, 6.92919035, 8.52387437, 3.36085125,\n",
       "       9.81553301, 9.14848887, 6.50324285, 6.20594778, 0.31339043,\n",
       "       3.73376891, 6.24631602, 0.0713191 , 8.06260735, 0.64636716,\n",
       "       5.34738716, 5.78025865, 8.71174534, 7.69426315, 1.52779527,\n",
       "       4.42363453, 1.45119851, 2.21168898, 4.61045349, 4.89193175,\n",
       "       0.03792871, 1.03772014, 4.40505019, 7.82592215, 6.84251813,\n",
       "       7.85434407, 1.69593632, 9.53846836, 2.32276083, 1.02093834,\n",
       "       8.56216277, 9.31037018, 9.1988988 , 6.72399188, 4.14724242,\n",
       "       3.74609806, 5.751373  , 0.2647349 , 8.95304622, 1.1252397 ,\n",
       "       8.80893285, 6.88288916, 2.02792308, 9.64666701, 0.55390631,\n",
       "       7.08428592, 6.70534347, 4.81986473, 3.91453242, 1.21554438,\n",
       "       3.26706676, 5.73607889, 8.35954616, 8.3889837 , 2.12139288,\n",
       "       3.05018545, 6.00827266, 8.11761731, 6.61271736, 2.45757634,\n",
       "       5.01099589, 5.33263979, 0.91667983, 4.09406871, 0.29169372,\n",
       "       5.79578943, 9.76256172, 5.94444357, 5.97869211, 4.53524176,\n",
       "       1.45687986, 2.8036895 , 6.2092486 , 0.08731385, 6.10996755,\n",
       "       3.68454304, 0.70606942, 5.66666797, 7.06320223, 2.98135982,\n",
       "       3.07069437, 7.19083716, 1.96937731, 8.26924709, 7.03824331,\n",
       "       9.00290528, 1.15852737, 0.43640466, 9.30717575, 4.10019369,\n",
       "       6.27588868, 6.97270485, 9.8779194 , 6.61944124, 9.27522186,\n",
       "       8.02734181, 8.25179887, 7.29072408, 6.48393064, 5.21289546,\n",
       "       0.11794685, 2.90153676, 5.30387067, 9.74392743, 5.67413214,\n",
       "       7.1715273 , 3.26884915, 8.57399498, 7.71312333, 1.95447613,\n",
       "       9.24669441, 8.4562237 , 4.33180428, 4.56866786, 3.86922996,\n",
       "       1.76094552, 4.17708929, 8.08133693, 4.59458063, 4.78298067,\n",
       "       0.30512742, 7.96166825, 7.2661412 , 0.67908587, 2.62599237,\n",
       "       7.11959887, 8.99515399, 0.32341372, 1.75522583, 4.5563017 ,\n",
       "       4.4801059 , 6.93971477, 8.65872449, 8.71213241, 7.61817225,\n",
       "       9.89895219, 1.55468249, 3.73568975, 9.71255525, 4.97402239,\n",
       "       2.42006284, 8.85907674, 1.95929198, 9.05145856, 1.11950506,\n",
       "       6.94876651, 9.63655343, 8.55812577, 6.2166222 , 2.39121191,\n",
       "       8.69492071, 5.512842  , 7.84378182, 5.79312236, 3.23473631,\n",
       "       0.6788417 , 7.91694137, 9.4648379 , 5.4723563 , 5.94692677,\n",
       "       0.11013118, 2.97182813, 3.40158763, 3.02780688, 7.10603154,\n",
       "       4.6321851 , 5.98354165, 2.01157785, 7.93872091, 9.33456746,\n",
       "       5.10065147, 2.19836128, 3.60424145, 1.7497539 , 6.45785913,\n",
       "       5.70132335, 5.63440213, 3.5991656 , 2.02569406, 2.53990261,\n",
       "       0.17023086, 5.8646165 , 7.79321172, 9.07617393, 8.11365715,\n",
       "       7.45156369, 6.85232797, 1.87390774, 1.44486362, 5.16704713,\n",
       "       6.87913737, 9.27641062, 1.89824431, 0.49347022, 0.57523713,\n",
       "       2.37279749, 8.07738974, 0.26043721, 7.72743149, 2.57799922,\n",
       "       2.34597731, 3.74957688, 9.24295066, 4.31135676, 5.5237597 ,\n",
       "       8.9578175 , 6.94960412, 6.11316367, 8.6697071 , 2.14908757,\n",
       "       0.09688424, 4.18190363, 2.64576091, 4.53684696, 9.31748953,\n",
       "       1.25986109, 1.43637908, 0.77452982, 1.51221156, 0.35936257,\n",
       "       8.34370175, 5.42796056, 6.87257453, 3.52342227, 1.45733027,\n",
       "       6.599154  , 4.96717084, 8.43190923, 5.94211191, 4.78041826,\n",
       "       0.14410374, 3.29315617, 2.85182939, 2.89561599, 3.68098363,\n",
       "       0.25608064, 1.1941548 , 7.75371646, 8.46063974, 7.47550379,\n",
       "       2.66282229, 3.3805836 , 1.43183292, 8.82330557, 2.47113258,\n",
       "       2.34386814, 1.84004932, 1.74168689, 7.3686486 , 0.14541988,\n",
       "       5.12104212, 4.42307429, 6.01750107, 7.36525962, 6.35701417,\n",
       "       8.53782229, 1.57573923, 4.36797197, 6.67031533, 8.90733527,\n",
       "       2.68786565, 7.83267947, 9.49030677, 2.32844133, 7.80930615,\n",
       "       8.96691785, 0.81236924, 3.57039375, 7.68749639, 5.06411416,\n",
       "       6.919281  , 6.90261151, 4.09456753, 8.25619659, 7.75553479,\n",
       "       0.89232438, 7.77575572, 1.39148114, 1.44255107, 1.05752845,\n",
       "       2.8713996 , 4.30723063, 1.58157533, 2.50420077, 3.21780648,\n",
       "       3.49337813, 0.5200553 , 3.15570486, 0.79362204, 2.28818604,\n",
       "       5.74910798, 5.05490836, 8.13665068, 8.93681229, 1.75503048,\n",
       "       9.80546593, 4.27061823, 9.36242098, 2.45756336, 3.4106745 ,\n",
       "       7.71645334, 4.612336  , 2.0782589 , 1.73032286, 6.32508115])"
      ]
     },
     "execution_count": 180,
     "metadata": {},
     "output_type": "execute_result"
    }
   ],
   "source": [
    "d"
   ]
  },
  {
   "cell_type": "code",
   "execution_count": 181,
   "metadata": {},
   "outputs": [
    {
     "data": {
      "text/plain": [
       "1000"
      ]
     },
     "execution_count": 181,
     "metadata": {},
     "output_type": "execute_result"
    }
   ],
   "source": [
    "len(d)"
   ]
  },
  {
   "cell_type": "code",
   "execution_count": 182,
   "metadata": {},
   "outputs": [
    {
     "data": {
      "text/plain": [
       "array([[0.000e+00, 0.000e+00, 0.000e+00, ..., 7.000e-01, 4.680e+01,\n",
       "        0.000e+00],\n",
       "       [1.000e+00, 0.000e+00, 0.000e+00, ..., 5.100e+00, 4.560e+01,\n",
       "        0.000e+00],\n",
       "       [0.000e+00, 0.000e+00, 0.000e+00, ..., 4.600e+00, 4.410e+01,\n",
       "        0.000e+00],\n",
       "       ...,\n",
       "       [0.000e+00, 0.000e+00, 0.000e+00, ..., 1.850e+01, 7.740e+01,\n",
       "        1.379e+03],\n",
       "       [0.000e+00, 0.000e+00, 0.000e+00, ..., 1.930e+01, 7.150e+01,\n",
       "        1.230e+02],\n",
       "       [0.000e+00, 0.000e+00, 0.000e+00, ..., 1.970e+01, 8.810e+01,\n",
       "        1.500e+01]])"
      ]
     },
     "execution_count": 182,
     "metadata": {},
     "output_type": "execute_result"
    }
   ],
   "source": [
    "c"
   ]
  },
  {
   "cell_type": "code",
   "execution_count": 183,
   "metadata": {},
   "outputs": [],
   "source": [
    "d=c"
   ]
  },
  {
   "cell_type": "code",
   "execution_count": 184,
   "metadata": {},
   "outputs": [
    {
     "data": {
      "text/plain": [
       "array([[0.000e+00, 0.000e+00, 0.000e+00, ..., 7.000e-01, 4.680e+01,\n",
       "        0.000e+00],\n",
       "       [1.000e+00, 0.000e+00, 0.000e+00, ..., 5.100e+00, 4.560e+01,\n",
       "        0.000e+00],\n",
       "       [0.000e+00, 0.000e+00, 0.000e+00, ..., 4.600e+00, 4.410e+01,\n",
       "        0.000e+00],\n",
       "       ...,\n",
       "       [0.000e+00, 0.000e+00, 0.000e+00, ..., 1.850e+01, 7.740e+01,\n",
       "        1.379e+03],\n",
       "       [0.000e+00, 0.000e+00, 0.000e+00, ..., 1.930e+01, 7.150e+01,\n",
       "        1.230e+02],\n",
       "       [0.000e+00, 0.000e+00, 0.000e+00, ..., 1.970e+01, 8.810e+01,\n",
       "        1.500e+01]])"
      ]
     },
     "execution_count": 184,
     "metadata": {},
     "output_type": "execute_result"
    }
   ],
   "source": [
    "d"
   ]
  },
  {
   "cell_type": "code",
   "execution_count": 185,
   "metadata": {},
   "outputs": [],
   "source": [
    "d_normed = d/d.max(axis=0)"
   ]
  },
  {
   "cell_type": "code",
   "execution_count": 186,
   "metadata": {},
   "outputs": [
    {
     "name": "stdout",
     "output_type": "stream",
     "text": [
      "[[0.         0.         0.         ... 0.02661597 0.468      0.        ]\n",
      " [1.         0.         0.         ... 0.19391635 0.456      0.        ]\n",
      " [0.         0.         0.         ... 0.17490494 0.441      0.        ]\n",
      " ...\n",
      " [0.         0.         0.         ... 0.70342205 0.774      0.20034869]\n",
      " [0.         0.         0.         ... 0.7338403  0.715      0.01787011]\n",
      " [0.         0.         0.         ... 0.74904943 0.881      0.00217928]]\n"
     ]
    }
   ],
   "source": [
    "print(d_normed)"
   ]
  },
  {
   "cell_type": "code",
   "execution_count": 187,
   "metadata": {},
   "outputs": [
    {
     "data": {
      "text/plain": [
       "array([0.        , 0.        , 0.        , 0.        , 0.        ,\n",
       "       0.        , 0.        , 0.        , 0.        , 0.        ,\n",
       "       0.        , 0.        , 0.        , 0.        , 1.        ,\n",
       "       0.        , 0.02661597, 0.468     , 0.        ])"
      ]
     },
     "execution_count": 187,
     "metadata": {},
     "output_type": "execute_result"
    }
   ],
   "source": [
    "d_normed[0]"
   ]
  },
  {
   "cell_type": "code",
   "execution_count": 188,
   "metadata": {},
   "outputs": [
    {
     "data": {
      "text/plain": [
       "array([0.        , 0.        , 0.        , 1.        , 0.        ,\n",
       "       0.        , 0.        , 0.        , 0.        , 0.        ,\n",
       "       0.        , 0.        , 0.        , 0.        , 0.        ,\n",
       "       0.        , 0.17490494, 0.441     , 0.        ])"
      ]
     },
     "execution_count": 188,
     "metadata": {},
     "output_type": "execute_result"
    }
   ],
   "source": [
    "d_normed[2]"
   ]
  },
  {
   "cell_type": "code",
   "execution_count": 190,
   "metadata": {},
   "outputs": [
    {
     "data": {
      "text/plain": [
       "array([0.        , 0.        , 0.        , 1.        , 0.        ,\n",
       "       0.        , 0.        , 0.        , 0.        , 0.        ,\n",
       "       0.        , 0.        , 0.        , 0.        , 0.        ,\n",
       "       0.        , 0.57034221, 0.541     , 0.92169112])"
      ]
     },
     "execution_count": 190,
     "metadata": {},
     "output_type": "execute_result"
    }
   ],
   "source": [
    "d_normed[978]"
   ]
  },
  {
   "cell_type": "code",
   "execution_count": 191,
   "metadata": {},
   "outputs": [
    {
     "data": {
      "text/html": [
       "<div>\n",
       "<style scoped>\n",
       "    .dataframe tbody tr th:only-of-type {\n",
       "        vertical-align: middle;\n",
       "    }\n",
       "\n",
       "    .dataframe tbody tr th {\n",
       "        vertical-align: top;\n",
       "    }\n",
       "\n",
       "    .dataframe thead th {\n",
       "        text-align: right;\n",
       "    }\n",
       "</style>\n",
       "<table border=\"1\" class=\"dataframe\">\n",
       "  <thead>\n",
       "    <tr style=\"text-align: right;\">\n",
       "      <th></th>\n",
       "      <th>province</th>\n",
       "      <th>avg_temp</th>\n",
       "      <th>avg_relative_humidity</th>\n",
       "      <th>confirmed</th>\n",
       "    </tr>\n",
       "  </thead>\n",
       "  <tbody>\n",
       "    <tr>\n",
       "      <th>0</th>\n",
       "      <td>Seoul</td>\n",
       "      <td>0.7</td>\n",
       "      <td>46.8</td>\n",
       "      <td>0</td>\n",
       "    </tr>\n",
       "    <tr>\n",
       "      <th>1</th>\n",
       "      <td>Busan</td>\n",
       "      <td>5.1</td>\n",
       "      <td>45.6</td>\n",
       "      <td>0</td>\n",
       "    </tr>\n",
       "    <tr>\n",
       "      <th>2</th>\n",
       "      <td>Daegu</td>\n",
       "      <td>4.6</td>\n",
       "      <td>44.1</td>\n",
       "      <td>0</td>\n",
       "    </tr>\n",
       "    <tr>\n",
       "      <th>3</th>\n",
       "      <td>Gwangju</td>\n",
       "      <td>4.0</td>\n",
       "      <td>63.1</td>\n",
       "      <td>0</td>\n",
       "    </tr>\n",
       "    <tr>\n",
       "      <th>4</th>\n",
       "      <td>Incheon</td>\n",
       "      <td>1.2</td>\n",
       "      <td>56.0</td>\n",
       "      <td>1</td>\n",
       "    </tr>\n",
       "    <tr>\n",
       "      <th>...</th>\n",
       "      <td>...</td>\n",
       "      <td>...</td>\n",
       "      <td>...</td>\n",
       "      <td>...</td>\n",
       "    </tr>\n",
       "    <tr>\n",
       "      <th>2123</th>\n",
       "      <td>Jeollabuk-do</td>\n",
       "      <td>20.9</td>\n",
       "      <td>61.8</td>\n",
       "      <td>21</td>\n",
       "    </tr>\n",
       "    <tr>\n",
       "      <th>2124</th>\n",
       "      <td>Jeollanam-do</td>\n",
       "      <td>19.1</td>\n",
       "      <td>84.1</td>\n",
       "      <td>19</td>\n",
       "    </tr>\n",
       "    <tr>\n",
       "      <th>2125</th>\n",
       "      <td>Gyeongsangbuk-do</td>\n",
       "      <td>18.5</td>\n",
       "      <td>77.4</td>\n",
       "      <td>1379</td>\n",
       "    </tr>\n",
       "    <tr>\n",
       "      <th>2126</th>\n",
       "      <td>Gyeongsangnam-do</td>\n",
       "      <td>19.3</td>\n",
       "      <td>71.5</td>\n",
       "      <td>123</td>\n",
       "    </tr>\n",
       "    <tr>\n",
       "      <th>2127</th>\n",
       "      <td>Jeju-do</td>\n",
       "      <td>19.7</td>\n",
       "      <td>88.1</td>\n",
       "      <td>15</td>\n",
       "    </tr>\n",
       "  </tbody>\n",
       "</table>\n",
       "<p>2128 rows × 4 columns</p>\n",
       "</div>"
      ],
      "text/plain": [
       "              province  avg_temp  avg_relative_humidity  confirmed\n",
       "0                Seoul       0.7                   46.8          0\n",
       "1                Busan       5.1                   45.6          0\n",
       "2                Daegu       4.6                   44.1          0\n",
       "3              Gwangju       4.0                   63.1          0\n",
       "4              Incheon       1.2                   56.0          1\n",
       "...                ...       ...                    ...        ...\n",
       "2123      Jeollabuk-do      20.9                   61.8         21\n",
       "2124      Jeollanam-do      19.1                   84.1         19\n",
       "2125  Gyeongsangbuk-do      18.5                   77.4       1379\n",
       "2126  Gyeongsangnam-do      19.3                   71.5        123\n",
       "2127           Jeju-do      19.7                   88.1         15\n",
       "\n",
       "[2128 rows x 4 columns]"
      ]
     },
     "execution_count": 191,
     "metadata": {},
     "output_type": "execute_result"
    }
   ],
   "source": [
    "df"
   ]
  },
  {
   "cell_type": "code",
   "execution_count": 192,
   "metadata": {},
   "outputs": [
    {
     "data": {
      "text/plain": [
       "array([[0.000e+00, 0.000e+00, 0.000e+00, ..., 7.000e-01, 4.680e+01,\n",
       "        0.000e+00],\n",
       "       [1.000e+00, 0.000e+00, 0.000e+00, ..., 5.100e+00, 4.560e+01,\n",
       "        0.000e+00],\n",
       "       [0.000e+00, 0.000e+00, 0.000e+00, ..., 4.600e+00, 4.410e+01,\n",
       "        0.000e+00],\n",
       "       ...,\n",
       "       [0.000e+00, 0.000e+00, 0.000e+00, ..., 1.850e+01, 7.740e+01,\n",
       "        1.379e+03],\n",
       "       [0.000e+00, 0.000e+00, 0.000e+00, ..., 1.930e+01, 7.150e+01,\n",
       "        1.230e+02],\n",
       "       [0.000e+00, 0.000e+00, 0.000e+00, ..., 1.970e+01, 8.810e+01,\n",
       "        1.500e+01]])"
      ]
     },
     "execution_count": 192,
     "metadata": {},
     "output_type": "execute_result"
    }
   ],
   "source": [
    "d"
   ]
  },
  {
   "cell_type": "code",
   "execution_count": 193,
   "metadata": {},
   "outputs": [
    {
     "data": {
      "text/plain": [
       "array([ 0. ,  0. ,  0. ,  0. ,  0. ,  0. ,  0. ,  0. ,  0. ,  0. ,  0. ,\n",
       "        0. ,  0. ,  0. ,  1. ,  0. ,  0.7, 46.8,  0. ])"
      ]
     },
     "execution_count": 193,
     "metadata": {},
     "output_type": "execute_result"
    }
   ],
   "source": [
    "d[0]"
   ]
  },
  {
   "cell_type": "code",
   "execution_count": 212,
   "metadata": {},
   "outputs": [
    {
     "data": {
      "text/plain": [
       "array([[7.000e-01, 4.680e+01, 0.000e+00],\n",
       "       [5.100e+00, 4.560e+01, 0.000e+00],\n",
       "       [4.600e+00, 4.410e+01, 0.000e+00],\n",
       "       ...,\n",
       "       [1.850e+01, 7.740e+01, 1.379e+03],\n",
       "       [1.930e+01, 7.150e+01, 1.230e+02],\n",
       "       [1.970e+01, 8.810e+01, 1.500e+01]])"
      ]
     },
     "execution_count": 212,
     "metadata": {},
     "output_type": "execute_result"
    }
   ],
   "source": [
    "d[:, 16:]"
   ]
  },
  {
   "cell_type": "code",
   "execution_count": 244,
   "metadata": {},
   "outputs": [],
   "source": [
    "list=['Busan', 'Chungcheongbuk-do', 'Chungcheongnam-do', 'Daegu', 'Daejeon', 'Gangwon-do', 'Gwangju', 'Gyeonggi-do', 'Gyeongsangbuk-do', 'Gyeongsangnam-do', 'Incheon', 'Jeju-do', 'Jeollabuk-do', 'Jeollanam-do','Seoul','Ulsan', 'avg_temp', 'avg_relative_humidity', 'confirmed']\n",
    "haha=pd.DataFrame(\n",
    "    data=d[:, :],\n",
    "    index=[i for i in range(d.shape[0])],\n",
    "    columns=[i for i in list]\n",
    ")"
   ]
  },
  {
   "cell_type": "code",
   "execution_count": 220,
   "metadata": {},
   "outputs": [
    {
     "data": {
      "text/plain": [
       "array([[0.000e+00, 0.000e+00, 0.000e+00, ..., 7.000e-01, 4.680e+01,\n",
       "        0.000e+00],\n",
       "       [1.000e+00, 0.000e+00, 0.000e+00, ..., 5.100e+00, 4.560e+01,\n",
       "        0.000e+00],\n",
       "       [0.000e+00, 0.000e+00, 0.000e+00, ..., 4.600e+00, 4.410e+01,\n",
       "        0.000e+00],\n",
       "       ...,\n",
       "       [0.000e+00, 0.000e+00, 0.000e+00, ..., 1.850e+01, 7.740e+01,\n",
       "        1.379e+03],\n",
       "       [0.000e+00, 0.000e+00, 0.000e+00, ..., 1.930e+01, 7.150e+01,\n",
       "        1.230e+02],\n",
       "       [0.000e+00, 0.000e+00, 0.000e+00, ..., 1.970e+01, 8.810e+01,\n",
       "        1.500e+01]])"
      ]
     },
     "execution_count": 220,
     "metadata": {},
     "output_type": "execute_result"
    }
   ],
   "source": [
    "d"
   ]
  },
  {
   "cell_type": "code",
   "execution_count": 222,
   "metadata": {},
   "outputs": [
    {
     "data": {
      "text/html": [
       "<div>\n",
       "<style scoped>\n",
       "    .dataframe tbody tr th:only-of-type {\n",
       "        vertical-align: middle;\n",
       "    }\n",
       "\n",
       "    .dataframe tbody tr th {\n",
       "        vertical-align: top;\n",
       "    }\n",
       "\n",
       "    .dataframe thead th {\n",
       "        text-align: right;\n",
       "    }\n",
       "</style>\n",
       "<table border=\"1\" class=\"dataframe\">\n",
       "  <thead>\n",
       "    <tr style=\"text-align: right;\">\n",
       "      <th></th>\n",
       "      <th>1</th>\n",
       "      <th>2</th>\n",
       "      <th>3</th>\n",
       "      <th>4</th>\n",
       "      <th>5</th>\n",
       "      <th>6</th>\n",
       "      <th>7</th>\n",
       "      <th>8</th>\n",
       "      <th>9</th>\n",
       "      <th>10</th>\n",
       "      <th>11</th>\n",
       "      <th>12</th>\n",
       "      <th>13</th>\n",
       "      <th>14</th>\n",
       "      <th>15</th>\n",
       "      <th>16</th>\n",
       "      <th>avg_temp</th>\n",
       "      <th>avg_relative_humidity</th>\n",
       "      <th>confirmed</th>\n",
       "    </tr>\n",
       "  </thead>\n",
       "  <tbody>\n",
       "    <tr>\n",
       "      <th>0</th>\n",
       "      <td>0.0</td>\n",
       "      <td>0.0</td>\n",
       "      <td>0.0</td>\n",
       "      <td>0.0</td>\n",
       "      <td>0.0</td>\n",
       "      <td>0.0</td>\n",
       "      <td>0.0</td>\n",
       "      <td>0.0</td>\n",
       "      <td>0.0</td>\n",
       "      <td>0.0</td>\n",
       "      <td>0.0</td>\n",
       "      <td>0.0</td>\n",
       "      <td>0.0</td>\n",
       "      <td>0.0</td>\n",
       "      <td>1.0</td>\n",
       "      <td>0.0</td>\n",
       "      <td>0.7</td>\n",
       "      <td>46.8</td>\n",
       "      <td>0.0</td>\n",
       "    </tr>\n",
       "    <tr>\n",
       "      <th>1</th>\n",
       "      <td>1.0</td>\n",
       "      <td>0.0</td>\n",
       "      <td>0.0</td>\n",
       "      <td>0.0</td>\n",
       "      <td>0.0</td>\n",
       "      <td>0.0</td>\n",
       "      <td>0.0</td>\n",
       "      <td>0.0</td>\n",
       "      <td>0.0</td>\n",
       "      <td>0.0</td>\n",
       "      <td>0.0</td>\n",
       "      <td>0.0</td>\n",
       "      <td>0.0</td>\n",
       "      <td>0.0</td>\n",
       "      <td>0.0</td>\n",
       "      <td>0.0</td>\n",
       "      <td>5.1</td>\n",
       "      <td>45.6</td>\n",
       "      <td>0.0</td>\n",
       "    </tr>\n",
       "    <tr>\n",
       "      <th>2</th>\n",
       "      <td>0.0</td>\n",
       "      <td>0.0</td>\n",
       "      <td>0.0</td>\n",
       "      <td>1.0</td>\n",
       "      <td>0.0</td>\n",
       "      <td>0.0</td>\n",
       "      <td>0.0</td>\n",
       "      <td>0.0</td>\n",
       "      <td>0.0</td>\n",
       "      <td>0.0</td>\n",
       "      <td>0.0</td>\n",
       "      <td>0.0</td>\n",
       "      <td>0.0</td>\n",
       "      <td>0.0</td>\n",
       "      <td>0.0</td>\n",
       "      <td>0.0</td>\n",
       "      <td>4.6</td>\n",
       "      <td>44.1</td>\n",
       "      <td>0.0</td>\n",
       "    </tr>\n",
       "    <tr>\n",
       "      <th>3</th>\n",
       "      <td>0.0</td>\n",
       "      <td>0.0</td>\n",
       "      <td>0.0</td>\n",
       "      <td>0.0</td>\n",
       "      <td>0.0</td>\n",
       "      <td>0.0</td>\n",
       "      <td>1.0</td>\n",
       "      <td>0.0</td>\n",
       "      <td>0.0</td>\n",
       "      <td>0.0</td>\n",
       "      <td>0.0</td>\n",
       "      <td>0.0</td>\n",
       "      <td>0.0</td>\n",
       "      <td>0.0</td>\n",
       "      <td>0.0</td>\n",
       "      <td>0.0</td>\n",
       "      <td>4.0</td>\n",
       "      <td>63.1</td>\n",
       "      <td>0.0</td>\n",
       "    </tr>\n",
       "    <tr>\n",
       "      <th>4</th>\n",
       "      <td>0.0</td>\n",
       "      <td>0.0</td>\n",
       "      <td>0.0</td>\n",
       "      <td>0.0</td>\n",
       "      <td>0.0</td>\n",
       "      <td>0.0</td>\n",
       "      <td>0.0</td>\n",
       "      <td>0.0</td>\n",
       "      <td>0.0</td>\n",
       "      <td>0.0</td>\n",
       "      <td>1.0</td>\n",
       "      <td>0.0</td>\n",
       "      <td>0.0</td>\n",
       "      <td>0.0</td>\n",
       "      <td>0.0</td>\n",
       "      <td>0.0</td>\n",
       "      <td>1.2</td>\n",
       "      <td>56.0</td>\n",
       "      <td>1.0</td>\n",
       "    </tr>\n",
       "    <tr>\n",
       "      <th>...</th>\n",
       "      <td>...</td>\n",
       "      <td>...</td>\n",
       "      <td>...</td>\n",
       "      <td>...</td>\n",
       "      <td>...</td>\n",
       "      <td>...</td>\n",
       "      <td>...</td>\n",
       "      <td>...</td>\n",
       "      <td>...</td>\n",
       "      <td>...</td>\n",
       "      <td>...</td>\n",
       "      <td>...</td>\n",
       "      <td>...</td>\n",
       "      <td>...</td>\n",
       "      <td>...</td>\n",
       "      <td>...</td>\n",
       "      <td>...</td>\n",
       "      <td>...</td>\n",
       "      <td>...</td>\n",
       "    </tr>\n",
       "    <tr>\n",
       "      <th>2123</th>\n",
       "      <td>0.0</td>\n",
       "      <td>0.0</td>\n",
       "      <td>0.0</td>\n",
       "      <td>0.0</td>\n",
       "      <td>0.0</td>\n",
       "      <td>0.0</td>\n",
       "      <td>0.0</td>\n",
       "      <td>0.0</td>\n",
       "      <td>0.0</td>\n",
       "      <td>0.0</td>\n",
       "      <td>0.0</td>\n",
       "      <td>0.0</td>\n",
       "      <td>1.0</td>\n",
       "      <td>0.0</td>\n",
       "      <td>0.0</td>\n",
       "      <td>0.0</td>\n",
       "      <td>20.9</td>\n",
       "      <td>61.8</td>\n",
       "      <td>21.0</td>\n",
       "    </tr>\n",
       "    <tr>\n",
       "      <th>2124</th>\n",
       "      <td>0.0</td>\n",
       "      <td>0.0</td>\n",
       "      <td>0.0</td>\n",
       "      <td>0.0</td>\n",
       "      <td>0.0</td>\n",
       "      <td>0.0</td>\n",
       "      <td>0.0</td>\n",
       "      <td>0.0</td>\n",
       "      <td>0.0</td>\n",
       "      <td>0.0</td>\n",
       "      <td>0.0</td>\n",
       "      <td>0.0</td>\n",
       "      <td>0.0</td>\n",
       "      <td>1.0</td>\n",
       "      <td>0.0</td>\n",
       "      <td>0.0</td>\n",
       "      <td>19.1</td>\n",
       "      <td>84.1</td>\n",
       "      <td>19.0</td>\n",
       "    </tr>\n",
       "    <tr>\n",
       "      <th>2125</th>\n",
       "      <td>0.0</td>\n",
       "      <td>0.0</td>\n",
       "      <td>0.0</td>\n",
       "      <td>0.0</td>\n",
       "      <td>0.0</td>\n",
       "      <td>0.0</td>\n",
       "      <td>0.0</td>\n",
       "      <td>0.0</td>\n",
       "      <td>1.0</td>\n",
       "      <td>0.0</td>\n",
       "      <td>0.0</td>\n",
       "      <td>0.0</td>\n",
       "      <td>0.0</td>\n",
       "      <td>0.0</td>\n",
       "      <td>0.0</td>\n",
       "      <td>0.0</td>\n",
       "      <td>18.5</td>\n",
       "      <td>77.4</td>\n",
       "      <td>1379.0</td>\n",
       "    </tr>\n",
       "    <tr>\n",
       "      <th>2126</th>\n",
       "      <td>0.0</td>\n",
       "      <td>0.0</td>\n",
       "      <td>0.0</td>\n",
       "      <td>0.0</td>\n",
       "      <td>0.0</td>\n",
       "      <td>0.0</td>\n",
       "      <td>0.0</td>\n",
       "      <td>0.0</td>\n",
       "      <td>0.0</td>\n",
       "      <td>1.0</td>\n",
       "      <td>0.0</td>\n",
       "      <td>0.0</td>\n",
       "      <td>0.0</td>\n",
       "      <td>0.0</td>\n",
       "      <td>0.0</td>\n",
       "      <td>0.0</td>\n",
       "      <td>19.3</td>\n",
       "      <td>71.5</td>\n",
       "      <td>123.0</td>\n",
       "    </tr>\n",
       "    <tr>\n",
       "      <th>2127</th>\n",
       "      <td>0.0</td>\n",
       "      <td>0.0</td>\n",
       "      <td>0.0</td>\n",
       "      <td>0.0</td>\n",
       "      <td>0.0</td>\n",
       "      <td>0.0</td>\n",
       "      <td>0.0</td>\n",
       "      <td>0.0</td>\n",
       "      <td>0.0</td>\n",
       "      <td>0.0</td>\n",
       "      <td>0.0</td>\n",
       "      <td>1.0</td>\n",
       "      <td>0.0</td>\n",
       "      <td>0.0</td>\n",
       "      <td>0.0</td>\n",
       "      <td>0.0</td>\n",
       "      <td>19.7</td>\n",
       "      <td>88.1</td>\n",
       "      <td>15.0</td>\n",
       "    </tr>\n",
       "  </tbody>\n",
       "</table>\n",
       "<p>2128 rows × 19 columns</p>\n",
       "</div>"
      ],
      "text/plain": [
       "        1    2    3    4    5    6    7    8    9   10   11   12   13   14  \\\n",
       "0     0.0  0.0  0.0  0.0  0.0  0.0  0.0  0.0  0.0  0.0  0.0  0.0  0.0  0.0   \n",
       "1     1.0  0.0  0.0  0.0  0.0  0.0  0.0  0.0  0.0  0.0  0.0  0.0  0.0  0.0   \n",
       "2     0.0  0.0  0.0  1.0  0.0  0.0  0.0  0.0  0.0  0.0  0.0  0.0  0.0  0.0   \n",
       "3     0.0  0.0  0.0  0.0  0.0  0.0  1.0  0.0  0.0  0.0  0.0  0.0  0.0  0.0   \n",
       "4     0.0  0.0  0.0  0.0  0.0  0.0  0.0  0.0  0.0  0.0  1.0  0.0  0.0  0.0   \n",
       "...   ...  ...  ...  ...  ...  ...  ...  ...  ...  ...  ...  ...  ...  ...   \n",
       "2123  0.0  0.0  0.0  0.0  0.0  0.0  0.0  0.0  0.0  0.0  0.0  0.0  1.0  0.0   \n",
       "2124  0.0  0.0  0.0  0.0  0.0  0.0  0.0  0.0  0.0  0.0  0.0  0.0  0.0  1.0   \n",
       "2125  0.0  0.0  0.0  0.0  0.0  0.0  0.0  0.0  1.0  0.0  0.0  0.0  0.0  0.0   \n",
       "2126  0.0  0.0  0.0  0.0  0.0  0.0  0.0  0.0  0.0  1.0  0.0  0.0  0.0  0.0   \n",
       "2127  0.0  0.0  0.0  0.0  0.0  0.0  0.0  0.0  0.0  0.0  0.0  1.0  0.0  0.0   \n",
       "\n",
       "       15   16  avg_temp  avg_relative_humidity  confirmed  \n",
       "0     1.0  0.0       0.7                   46.8        0.0  \n",
       "1     0.0  0.0       5.1                   45.6        0.0  \n",
       "2     0.0  0.0       4.6                   44.1        0.0  \n",
       "3     0.0  0.0       4.0                   63.1        0.0  \n",
       "4     0.0  0.0       1.2                   56.0        1.0  \n",
       "...   ...  ...       ...                    ...        ...  \n",
       "2123  0.0  0.0      20.9                   61.8       21.0  \n",
       "2124  0.0  0.0      19.1                   84.1       19.0  \n",
       "2125  0.0  0.0      18.5                   77.4     1379.0  \n",
       "2126  0.0  0.0      19.3                   71.5      123.0  \n",
       "2127  0.0  0.0      19.7                   88.1       15.0  \n",
       "\n",
       "[2128 rows x 19 columns]"
      ]
     },
     "execution_count": 222,
     "metadata": {},
     "output_type": "execute_result"
    }
   ],
   "source": [
    "wow"
   ]
  },
  {
   "cell_type": "code",
   "execution_count": 240,
   "metadata": {},
   "outputs": [
    {
     "data": {
      "text/plain": [
       "array([ 0. ,  0. ,  0. ,  0. ,  0. ,  0. ,  0. ,  0. ,  0. ,  0. ,  0. ,\n",
       "        1. ,  0. ,  0. ,  0. ,  0. ,  8.4, 50.3,  0. ])"
      ]
     },
     "execution_count": 240,
     "metadata": {},
     "output_type": "execute_result"
    }
   ],
   "source": [
    "d[15]"
   ]
  },
  {
   "cell_type": "code",
   "execution_count": 227,
   "metadata": {},
   "outputs": [
    {
     "data": {
      "text/html": [
       "<div>\n",
       "<style scoped>\n",
       "    .dataframe tbody tr th:only-of-type {\n",
       "        vertical-align: middle;\n",
       "    }\n",
       "\n",
       "    .dataframe tbody tr th {\n",
       "        vertical-align: top;\n",
       "    }\n",
       "\n",
       "    .dataframe thead th {\n",
       "        text-align: right;\n",
       "    }\n",
       "</style>\n",
       "<table border=\"1\" class=\"dataframe\">\n",
       "  <thead>\n",
       "    <tr style=\"text-align: right;\">\n",
       "      <th></th>\n",
       "      <th>province</th>\n",
       "      <th>avg_temp</th>\n",
       "      <th>avg_relative_humidity</th>\n",
       "      <th>confirmed</th>\n",
       "    </tr>\n",
       "  </thead>\n",
       "  <tbody>\n",
       "    <tr>\n",
       "      <th>0</th>\n",
       "      <td>Seoul</td>\n",
       "      <td>0.7</td>\n",
       "      <td>46.8</td>\n",
       "      <td>0</td>\n",
       "    </tr>\n",
       "    <tr>\n",
       "      <th>1</th>\n",
       "      <td>Busan</td>\n",
       "      <td>5.1</td>\n",
       "      <td>45.6</td>\n",
       "      <td>0</td>\n",
       "    </tr>\n",
       "    <tr>\n",
       "      <th>2</th>\n",
       "      <td>Daegu</td>\n",
       "      <td>4.6</td>\n",
       "      <td>44.1</td>\n",
       "      <td>0</td>\n",
       "    </tr>\n",
       "    <tr>\n",
       "      <th>3</th>\n",
       "      <td>Gwangju</td>\n",
       "      <td>4.0</td>\n",
       "      <td>63.1</td>\n",
       "      <td>0</td>\n",
       "    </tr>\n",
       "    <tr>\n",
       "      <th>4</th>\n",
       "      <td>Incheon</td>\n",
       "      <td>1.2</td>\n",
       "      <td>56.0</td>\n",
       "      <td>1</td>\n",
       "    </tr>\n",
       "    <tr>\n",
       "      <th>5</th>\n",
       "      <td>Daejeon</td>\n",
       "      <td>3.4</td>\n",
       "      <td>57.3</td>\n",
       "      <td>0</td>\n",
       "    </tr>\n",
       "    <tr>\n",
       "      <th>6</th>\n",
       "      <td>Ulsan</td>\n",
       "      <td>4.3</td>\n",
       "      <td>48.5</td>\n",
       "      <td>0</td>\n",
       "    </tr>\n",
       "    <tr>\n",
       "      <th>7</th>\n",
       "      <td>Gyeonggi-do</td>\n",
       "      <td>1.2</td>\n",
       "      <td>68.5</td>\n",
       "      <td>0</td>\n",
       "    </tr>\n",
       "    <tr>\n",
       "      <th>8</th>\n",
       "      <td>Gangwon-do</td>\n",
       "      <td>3.7</td>\n",
       "      <td>38.8</td>\n",
       "      <td>0</td>\n",
       "    </tr>\n",
       "    <tr>\n",
       "      <th>9</th>\n",
       "      <td>Chungcheongbuk-do</td>\n",
       "      <td>0.9</td>\n",
       "      <td>63.3</td>\n",
       "      <td>0</td>\n",
       "    </tr>\n",
       "    <tr>\n",
       "      <th>10</th>\n",
       "      <td>Chungcheongnam-do</td>\n",
       "      <td>1.7</td>\n",
       "      <td>62.0</td>\n",
       "      <td>0</td>\n",
       "    </tr>\n",
       "    <tr>\n",
       "      <th>11</th>\n",
       "      <td>Jeollabuk-do</td>\n",
       "      <td>3.5</td>\n",
       "      <td>61.1</td>\n",
       "      <td>0</td>\n",
       "    </tr>\n",
       "    <tr>\n",
       "      <th>12</th>\n",
       "      <td>Jeollanam-do</td>\n",
       "      <td>4.9</td>\n",
       "      <td>55.8</td>\n",
       "      <td>0</td>\n",
       "    </tr>\n",
       "    <tr>\n",
       "      <th>13</th>\n",
       "      <td>Gyeongsangbuk-do</td>\n",
       "      <td>3.6</td>\n",
       "      <td>48.6</td>\n",
       "      <td>0</td>\n",
       "    </tr>\n",
       "    <tr>\n",
       "      <th>14</th>\n",
       "      <td>Gyeongsangnam-do</td>\n",
       "      <td>4.4</td>\n",
       "      <td>42.6</td>\n",
       "      <td>0</td>\n",
       "    </tr>\n",
       "    <tr>\n",
       "      <th>15</th>\n",
       "      <td>Jeju-do</td>\n",
       "      <td>8.4</td>\n",
       "      <td>50.3</td>\n",
       "      <td>0</td>\n",
       "    </tr>\n",
       "  </tbody>\n",
       "</table>\n",
       "</div>"
      ],
      "text/plain": [
       "             province  avg_temp  avg_relative_humidity  confirmed\n",
       "0               Seoul       0.7                   46.8          0\n",
       "1               Busan       5.1                   45.6          0\n",
       "2               Daegu       4.6                   44.1          0\n",
       "3             Gwangju       4.0                   63.1          0\n",
       "4             Incheon       1.2                   56.0          1\n",
       "5             Daejeon       3.4                   57.3          0\n",
       "6               Ulsan       4.3                   48.5          0\n",
       "7         Gyeonggi-do       1.2                   68.5          0\n",
       "8          Gangwon-do       3.7                   38.8          0\n",
       "9   Chungcheongbuk-do       0.9                   63.3          0\n",
       "10  Chungcheongnam-do       1.7                   62.0          0\n",
       "11       Jeollabuk-do       3.5                   61.1          0\n",
       "12       Jeollanam-do       4.9                   55.8          0\n",
       "13   Gyeongsangbuk-do       3.6                   48.6          0\n",
       "14   Gyeongsangnam-do       4.4                   42.6          0\n",
       "15            Jeju-do       8.4                   50.3          0"
      ]
     },
     "execution_count": 227,
     "metadata": {},
     "output_type": "execute_result"
    }
   ],
   "source": [
    "df.head(16)"
   ]
  },
  {
   "cell_type": "code",
   "execution_count": 245,
   "metadata": {},
   "outputs": [
    {
     "data": {
      "text/html": [
       "<div>\n",
       "<style scoped>\n",
       "    .dataframe tbody tr th:only-of-type {\n",
       "        vertical-align: middle;\n",
       "    }\n",
       "\n",
       "    .dataframe tbody tr th {\n",
       "        vertical-align: top;\n",
       "    }\n",
       "\n",
       "    .dataframe thead th {\n",
       "        text-align: right;\n",
       "    }\n",
       "</style>\n",
       "<table border=\"1\" class=\"dataframe\">\n",
       "  <thead>\n",
       "    <tr style=\"text-align: right;\">\n",
       "      <th></th>\n",
       "      <th>Busan</th>\n",
       "      <th>Chungcheongbuk-do</th>\n",
       "      <th>Chungcheongnam-do</th>\n",
       "      <th>Daegu</th>\n",
       "      <th>Daejeon</th>\n",
       "      <th>Gangwon-do</th>\n",
       "      <th>Gwangju</th>\n",
       "      <th>Gyeonggi-do</th>\n",
       "      <th>Gyeongsangbuk-do</th>\n",
       "      <th>Gyeongsangnam-do</th>\n",
       "      <th>Incheon</th>\n",
       "      <th>Jeju-do</th>\n",
       "      <th>Jeollabuk-do</th>\n",
       "      <th>Jeollanam-do</th>\n",
       "      <th>Seoul</th>\n",
       "      <th>Ulsan</th>\n",
       "      <th>avg_temp</th>\n",
       "      <th>avg_relative_humidity</th>\n",
       "      <th>confirmed</th>\n",
       "    </tr>\n",
       "  </thead>\n",
       "  <tbody>\n",
       "    <tr>\n",
       "      <th>0</th>\n",
       "      <td>0.0</td>\n",
       "      <td>0.0</td>\n",
       "      <td>0.0</td>\n",
       "      <td>0.0</td>\n",
       "      <td>0.0</td>\n",
       "      <td>0.0</td>\n",
       "      <td>0.0</td>\n",
       "      <td>0.0</td>\n",
       "      <td>0.0</td>\n",
       "      <td>0.0</td>\n",
       "      <td>0.0</td>\n",
       "      <td>0.0</td>\n",
       "      <td>0.0</td>\n",
       "      <td>0.0</td>\n",
       "      <td>1.0</td>\n",
       "      <td>0.0</td>\n",
       "      <td>0.7</td>\n",
       "      <td>46.8</td>\n",
       "      <td>0.0</td>\n",
       "    </tr>\n",
       "    <tr>\n",
       "      <th>1</th>\n",
       "      <td>1.0</td>\n",
       "      <td>0.0</td>\n",
       "      <td>0.0</td>\n",
       "      <td>0.0</td>\n",
       "      <td>0.0</td>\n",
       "      <td>0.0</td>\n",
       "      <td>0.0</td>\n",
       "      <td>0.0</td>\n",
       "      <td>0.0</td>\n",
       "      <td>0.0</td>\n",
       "      <td>0.0</td>\n",
       "      <td>0.0</td>\n",
       "      <td>0.0</td>\n",
       "      <td>0.0</td>\n",
       "      <td>0.0</td>\n",
       "      <td>0.0</td>\n",
       "      <td>5.1</td>\n",
       "      <td>45.6</td>\n",
       "      <td>0.0</td>\n",
       "    </tr>\n",
       "    <tr>\n",
       "      <th>2</th>\n",
       "      <td>0.0</td>\n",
       "      <td>0.0</td>\n",
       "      <td>0.0</td>\n",
       "      <td>1.0</td>\n",
       "      <td>0.0</td>\n",
       "      <td>0.0</td>\n",
       "      <td>0.0</td>\n",
       "      <td>0.0</td>\n",
       "      <td>0.0</td>\n",
       "      <td>0.0</td>\n",
       "      <td>0.0</td>\n",
       "      <td>0.0</td>\n",
       "      <td>0.0</td>\n",
       "      <td>0.0</td>\n",
       "      <td>0.0</td>\n",
       "      <td>0.0</td>\n",
       "      <td>4.6</td>\n",
       "      <td>44.1</td>\n",
       "      <td>0.0</td>\n",
       "    </tr>\n",
       "    <tr>\n",
       "      <th>3</th>\n",
       "      <td>0.0</td>\n",
       "      <td>0.0</td>\n",
       "      <td>0.0</td>\n",
       "      <td>0.0</td>\n",
       "      <td>0.0</td>\n",
       "      <td>0.0</td>\n",
       "      <td>1.0</td>\n",
       "      <td>0.0</td>\n",
       "      <td>0.0</td>\n",
       "      <td>0.0</td>\n",
       "      <td>0.0</td>\n",
       "      <td>0.0</td>\n",
       "      <td>0.0</td>\n",
       "      <td>0.0</td>\n",
       "      <td>0.0</td>\n",
       "      <td>0.0</td>\n",
       "      <td>4.0</td>\n",
       "      <td>63.1</td>\n",
       "      <td>0.0</td>\n",
       "    </tr>\n",
       "    <tr>\n",
       "      <th>4</th>\n",
       "      <td>0.0</td>\n",
       "      <td>0.0</td>\n",
       "      <td>0.0</td>\n",
       "      <td>0.0</td>\n",
       "      <td>0.0</td>\n",
       "      <td>0.0</td>\n",
       "      <td>0.0</td>\n",
       "      <td>0.0</td>\n",
       "      <td>0.0</td>\n",
       "      <td>0.0</td>\n",
       "      <td>1.0</td>\n",
       "      <td>0.0</td>\n",
       "      <td>0.0</td>\n",
       "      <td>0.0</td>\n",
       "      <td>0.0</td>\n",
       "      <td>0.0</td>\n",
       "      <td>1.2</td>\n",
       "      <td>56.0</td>\n",
       "      <td>1.0</td>\n",
       "    </tr>\n",
       "    <tr>\n",
       "      <th>...</th>\n",
       "      <td>...</td>\n",
       "      <td>...</td>\n",
       "      <td>...</td>\n",
       "      <td>...</td>\n",
       "      <td>...</td>\n",
       "      <td>...</td>\n",
       "      <td>...</td>\n",
       "      <td>...</td>\n",
       "      <td>...</td>\n",
       "      <td>...</td>\n",
       "      <td>...</td>\n",
       "      <td>...</td>\n",
       "      <td>...</td>\n",
       "      <td>...</td>\n",
       "      <td>...</td>\n",
       "      <td>...</td>\n",
       "      <td>...</td>\n",
       "      <td>...</td>\n",
       "      <td>...</td>\n",
       "    </tr>\n",
       "    <tr>\n",
       "      <th>2123</th>\n",
       "      <td>0.0</td>\n",
       "      <td>0.0</td>\n",
       "      <td>0.0</td>\n",
       "      <td>0.0</td>\n",
       "      <td>0.0</td>\n",
       "      <td>0.0</td>\n",
       "      <td>0.0</td>\n",
       "      <td>0.0</td>\n",
       "      <td>0.0</td>\n",
       "      <td>0.0</td>\n",
       "      <td>0.0</td>\n",
       "      <td>0.0</td>\n",
       "      <td>1.0</td>\n",
       "      <td>0.0</td>\n",
       "      <td>0.0</td>\n",
       "      <td>0.0</td>\n",
       "      <td>20.9</td>\n",
       "      <td>61.8</td>\n",
       "      <td>21.0</td>\n",
       "    </tr>\n",
       "    <tr>\n",
       "      <th>2124</th>\n",
       "      <td>0.0</td>\n",
       "      <td>0.0</td>\n",
       "      <td>0.0</td>\n",
       "      <td>0.0</td>\n",
       "      <td>0.0</td>\n",
       "      <td>0.0</td>\n",
       "      <td>0.0</td>\n",
       "      <td>0.0</td>\n",
       "      <td>0.0</td>\n",
       "      <td>0.0</td>\n",
       "      <td>0.0</td>\n",
       "      <td>0.0</td>\n",
       "      <td>0.0</td>\n",
       "      <td>1.0</td>\n",
       "      <td>0.0</td>\n",
       "      <td>0.0</td>\n",
       "      <td>19.1</td>\n",
       "      <td>84.1</td>\n",
       "      <td>19.0</td>\n",
       "    </tr>\n",
       "    <tr>\n",
       "      <th>2125</th>\n",
       "      <td>0.0</td>\n",
       "      <td>0.0</td>\n",
       "      <td>0.0</td>\n",
       "      <td>0.0</td>\n",
       "      <td>0.0</td>\n",
       "      <td>0.0</td>\n",
       "      <td>0.0</td>\n",
       "      <td>0.0</td>\n",
       "      <td>1.0</td>\n",
       "      <td>0.0</td>\n",
       "      <td>0.0</td>\n",
       "      <td>0.0</td>\n",
       "      <td>0.0</td>\n",
       "      <td>0.0</td>\n",
       "      <td>0.0</td>\n",
       "      <td>0.0</td>\n",
       "      <td>18.5</td>\n",
       "      <td>77.4</td>\n",
       "      <td>1379.0</td>\n",
       "    </tr>\n",
       "    <tr>\n",
       "      <th>2126</th>\n",
       "      <td>0.0</td>\n",
       "      <td>0.0</td>\n",
       "      <td>0.0</td>\n",
       "      <td>0.0</td>\n",
       "      <td>0.0</td>\n",
       "      <td>0.0</td>\n",
       "      <td>0.0</td>\n",
       "      <td>0.0</td>\n",
       "      <td>0.0</td>\n",
       "      <td>1.0</td>\n",
       "      <td>0.0</td>\n",
       "      <td>0.0</td>\n",
       "      <td>0.0</td>\n",
       "      <td>0.0</td>\n",
       "      <td>0.0</td>\n",
       "      <td>0.0</td>\n",
       "      <td>19.3</td>\n",
       "      <td>71.5</td>\n",
       "      <td>123.0</td>\n",
       "    </tr>\n",
       "    <tr>\n",
       "      <th>2127</th>\n",
       "      <td>0.0</td>\n",
       "      <td>0.0</td>\n",
       "      <td>0.0</td>\n",
       "      <td>0.0</td>\n",
       "      <td>0.0</td>\n",
       "      <td>0.0</td>\n",
       "      <td>0.0</td>\n",
       "      <td>0.0</td>\n",
       "      <td>0.0</td>\n",
       "      <td>0.0</td>\n",
       "      <td>0.0</td>\n",
       "      <td>1.0</td>\n",
       "      <td>0.0</td>\n",
       "      <td>0.0</td>\n",
       "      <td>0.0</td>\n",
       "      <td>0.0</td>\n",
       "      <td>19.7</td>\n",
       "      <td>88.1</td>\n",
       "      <td>15.0</td>\n",
       "    </tr>\n",
       "  </tbody>\n",
       "</table>\n",
       "<p>2128 rows × 19 columns</p>\n",
       "</div>"
      ],
      "text/plain": [
       "      Busan  Chungcheongbuk-do  Chungcheongnam-do  Daegu  Daejeon  Gangwon-do  \\\n",
       "0       0.0                0.0                0.0    0.0      0.0         0.0   \n",
       "1       1.0                0.0                0.0    0.0      0.0         0.0   \n",
       "2       0.0                0.0                0.0    1.0      0.0         0.0   \n",
       "3       0.0                0.0                0.0    0.0      0.0         0.0   \n",
       "4       0.0                0.0                0.0    0.0      0.0         0.0   \n",
       "...     ...                ...                ...    ...      ...         ...   \n",
       "2123    0.0                0.0                0.0    0.0      0.0         0.0   \n",
       "2124    0.0                0.0                0.0    0.0      0.0         0.0   \n",
       "2125    0.0                0.0                0.0    0.0      0.0         0.0   \n",
       "2126    0.0                0.0                0.0    0.0      0.0         0.0   \n",
       "2127    0.0                0.0                0.0    0.0      0.0         0.0   \n",
       "\n",
       "      Gwangju  Gyeonggi-do  Gyeongsangbuk-do  Gyeongsangnam-do  Incheon  \\\n",
       "0         0.0          0.0               0.0               0.0      0.0   \n",
       "1         0.0          0.0               0.0               0.0      0.0   \n",
       "2         0.0          0.0               0.0               0.0      0.0   \n",
       "3         1.0          0.0               0.0               0.0      0.0   \n",
       "4         0.0          0.0               0.0               0.0      1.0   \n",
       "...       ...          ...               ...               ...      ...   \n",
       "2123      0.0          0.0               0.0               0.0      0.0   \n",
       "2124      0.0          0.0               0.0               0.0      0.0   \n",
       "2125      0.0          0.0               1.0               0.0      0.0   \n",
       "2126      0.0          0.0               0.0               1.0      0.0   \n",
       "2127      0.0          0.0               0.0               0.0      0.0   \n",
       "\n",
       "      Jeju-do  Jeollabuk-do  Jeollanam-do  Seoul  Ulsan  avg_temp  \\\n",
       "0         0.0           0.0           0.0    1.0    0.0       0.7   \n",
       "1         0.0           0.0           0.0    0.0    0.0       5.1   \n",
       "2         0.0           0.0           0.0    0.0    0.0       4.6   \n",
       "3         0.0           0.0           0.0    0.0    0.0       4.0   \n",
       "4         0.0           0.0           0.0    0.0    0.0       1.2   \n",
       "...       ...           ...           ...    ...    ...       ...   \n",
       "2123      0.0           1.0           0.0    0.0    0.0      20.9   \n",
       "2124      0.0           0.0           1.0    0.0    0.0      19.1   \n",
       "2125      0.0           0.0           0.0    0.0    0.0      18.5   \n",
       "2126      0.0           0.0           0.0    0.0    0.0      19.3   \n",
       "2127      1.0           0.0           0.0    0.0    0.0      19.7   \n",
       "\n",
       "      avg_relative_humidity  confirmed  \n",
       "0                      46.8        0.0  \n",
       "1                      45.6        0.0  \n",
       "2                      44.1        0.0  \n",
       "3                      63.1        0.0  \n",
       "4                      56.0        1.0  \n",
       "...                     ...        ...  \n",
       "2123                   61.8       21.0  \n",
       "2124                   84.1       19.0  \n",
       "2125                   77.4     1379.0  \n",
       "2126                   71.5      123.0  \n",
       "2127                   88.1       15.0  \n",
       "\n",
       "[2128 rows x 19 columns]"
      ]
     },
     "execution_count": 245,
     "metadata": {},
     "output_type": "execute_result"
    }
   ],
   "source": [
    "haha"
   ]
  },
  {
   "cell_type": "code",
   "execution_count": 243,
   "metadata": {},
   "outputs": [],
   "source": [
    "haha.to_csv('data2/good.csv')"
   ]
  },
  {
   "cell_type": "code",
   "execution_count": 249,
   "metadata": {},
   "outputs": [
    {
     "data": {
      "text/plain": [
       "XGBRegressor(base_score=0.5, booster='gbtree', colsample_bylevel=1,\n",
       "             colsample_bynode=1, colsample_bytree=1, gamma=0, gpu_id=-1,\n",
       "             importance_type='gain', interaction_constraints='',\n",
       "             learning_rate=0.300000012, max_delta_step=0, max_depth=6,\n",
       "             min_child_weight=1, missing=nan, monotone_constraints='()',\n",
       "             n_estimators=100, n_jobs=16, num_parallel_tree=1, random_state=0,\n",
       "             reg_alpha=0, reg_lambda=1, scale_pos_weight=1, subsample=1,\n",
       "             tree_method='exact', validate_parameters=1, verbosity=None)"
      ]
     },
     "execution_count": 249,
     "metadata": {},
     "output_type": "execute_result"
    }
   ],
   "source": [
    "from xgboost import XGBRegressor\n",
    "from sklearn.model_selection import train_test_split\n",
    "\n",
    "cols=['Busan', 'Chungcheongbuk-do', 'Chungcheongnam-do', 'Daegu', 'Daejeon', 'Gangwon-do', 'Gwangju', 'Gyeonggi-do', 'Gyeongsangbuk-do', 'Gyeongsangnam-do', 'Incheon', 'Jeju-do', 'Jeollabuk-do', 'Jeollanam-do','Seoul','Ulsan', 'avg_temp', 'avg_relative_humidity']\n",
    "X = haha[cols]\n",
    "Y = haha.confirmed\n",
    "\n",
    "x_train, x_valid, y_train, y_valid = train_test_split(X, Y)\n",
    "\n",
    "my_model = XGBRegressor()\n",
    "my_model.fit(x_train, y_train)"
   ]
  },
  {
   "cell_type": "code",
   "execution_count": 250,
   "metadata": {},
   "outputs": [
    {
     "name": "stdout",
     "output_type": "stream",
     "text": [
      "mean absolute error: 108.60036792080933\n"
     ]
    }
   ],
   "source": [
    "from sklearn.metrics import mean_absolute_error\n",
    "\n",
    "prediction = my_model.predict(x_valid)\n",
    "print(\"mean absolute error: \" + str(mean_absolute_error(prediction, y_valid)))"
   ]
  },
  {
   "cell_type": "code",
   "execution_count": 251,
   "metadata": {},
   "outputs": [
    {
     "name": "stdout",
     "output_type": "stream",
     "text": [
      "[02:55:45] WARNING: C:/Users/Administrator/workspace/xgboost-win64_release_1.3.0/src/learner.cc:541: \n",
      "Parameters: { n_estimator } might not be used.\n",
      "\n",
      "  This may not be accurate due to some parameters are only used in language bindings but\n",
      "  passed down to XGBoost core.  Or some parameters are not used but slip through this\n",
      "  verification. Please open an issue if you find above cases.\n",
      "\n",
      "\n",
      "mean absolute error: 108.60036792080933\n"
     ]
    }
   ],
   "source": [
    "my_model = XGBRegressor(n_estimator=500)\n",
    "my_model.fit(x_train, y_train)\n",
    "\n",
    "prediction = my_model.predict(x_valid)\n",
    "print(\"mean absolute error: \" + str(mean_absolute_error(prediction, y_valid)))"
   ]
  },
  {
   "cell_type": "code",
   "execution_count": 253,
   "metadata": {},
   "outputs": [
    {
     "name": "stdout",
     "output_type": "stream",
     "text": [
      "[02:58:24] WARNING: C:/Users/Administrator/workspace/xgboost-win64_release_1.3.0/src/learner.cc:541: \n",
      "Parameters: { n_estimator } might not be used.\n",
      "\n",
      "  This may not be accurate due to some parameters are only used in language bindings but\n",
      "  passed down to XGBoost core.  Or some parameters are not used but slip through this\n",
      "  verification. Please open an issue if you find above cases.\n",
      "\n",
      "\n",
      "mean absolute error: 118.02724716537877\n"
     ]
    }
   ],
   "source": [
    "my_model = XGBRegressor(n_estimator=500)\n",
    "my_model.fit(x_train, y_train, early_stopping_rounds=5,\n",
    "            eval_set=[(x_valid, y_valid)],\n",
    "            verbose=False)\n",
    "\n",
    "prediction = my_model.predict(x_valid)\n",
    "print(\"mean absolute error: \" + str(mean_absolute_error(prediction, y_valid)))"
   ]
  },
  {
   "cell_type": "code",
   "execution_count": 254,
   "metadata": {},
   "outputs": [
    {
     "name": "stdout",
     "output_type": "stream",
     "text": [
      "[02:59:17] WARNING: C:/Users/Administrator/workspace/xgboost-win64_release_1.3.0/src/learner.cc:541: \n",
      "Parameters: { n_estimator } might not be used.\n",
      "\n",
      "  This may not be accurate due to some parameters are only used in language bindings but\n",
      "  passed down to XGBoost core.  Or some parameters are not used but slip through this\n",
      "  verification. Please open an issue if you find above cases.\n",
      "\n",
      "\n",
      "mean absolute error: 127.87021814163467\n"
     ]
    }
   ],
   "source": [
    "my_model = XGBRegressor(n_estimator=500, learning_rate=0.05)\n",
    "my_model.fit(x_train, y_train, early_stopping_rounds=5,\n",
    "            eval_set=[(x_valid, y_valid)],\n",
    "            verbose=False)\n",
    "\n",
    "prediction = my_model.predict(x_valid)\n",
    "print(\"mean absolute error: \" + str(mean_absolute_error(prediction, y_valid)))"
   ]
  },
  {
   "cell_type": "code",
   "execution_count": 255,
   "metadata": {},
   "outputs": [
    {
     "name": "stdout",
     "output_type": "stream",
     "text": [
      "[02:59:43] WARNING: C:/Users/Administrator/workspace/xgboost-win64_release_1.3.0/src/learner.cc:541: \n",
      "Parameters: { n_estimator } might not be used.\n",
      "\n",
      "  This may not be accurate due to some parameters are only used in language bindings but\n",
      "  passed down to XGBoost core.  Or some parameters are not used but slip through this\n",
      "  verification. Please open an issue if you find above cases.\n",
      "\n",
      "\n",
      "mean absolute error: 127.87021814163467\n"
     ]
    }
   ],
   "source": [
    "my_model = XGBRegressor(n_estimator=500, learning_rate=0.05, n_jobs=4)\n",
    "my_model.fit(x_train, y_train, early_stopping_rounds=5,\n",
    "            eval_set=[(x_valid, y_valid)],\n",
    "            verbose=False)\n",
    "\n",
    "prediction = my_model.predict(x_valid)\n",
    "print(\"mean absolute error: \" + str(mean_absolute_error(prediction, y_valid)))"
   ]
  },
  {
   "cell_type": "code",
   "execution_count": 257,
   "metadata": {},
   "outputs": [
    {
     "name": "stdout",
     "output_type": "stream",
     "text": [
      "[03:05:21] WARNING: C:/Users/Administrator/workspace/xgboost-win64_release_1.3.0/src/learner.cc:541: \n",
      "Parameters: { n_estimator } might not be used.\n",
      "\n",
      "  This may not be accurate due to some parameters are only used in language bindings but\n",
      "  passed down to XGBoost core.  Or some parameters are not used but slip through this\n",
      "  verification. Please open an issue if you find above cases.\n",
      "\n",
      "\n",
      "mean absolute error: 127.87021814163467\n"
     ]
    }
   ],
   "source": [
    "my_model = XGBRegressor(n_estimator=100, learning_rate=0.05)\n",
    "my_model.fit(x_train, y_train, early_stopping_rounds=5,\n",
    "            eval_set=[(x_valid, y_valid)],\n",
    "            verbose=False)\n",
    "\n",
    "prediction = my_model.predict(x_valid)\n",
    "print(\"mean absolute error: \" + str(mean_absolute_error(prediction, y_valid)))"
   ]
  },
  {
   "cell_type": "code",
   "execution_count": 258,
   "metadata": {},
   "outputs": [
    {
     "data": {
      "text/plain": [
       "XGBRegressor(base_score=0.5, booster='gbtree', colsample_bylevel=1,\n",
       "             colsample_bynode=1, colsample_bytree=1, gamma=0, gpu_id=-1,\n",
       "             importance_type='gain', interaction_constraints='',\n",
       "             learning_rate=0.05, max_delta_step=0, max_depth=6,\n",
       "             min_child_weight=1, missing=nan, monotone_constraints='()',\n",
       "             n_estimator=100, n_estimators=100, n_jobs=16, num_parallel_tree=1,\n",
       "             random_state=0, reg_alpha=0, reg_lambda=1, scale_pos_weight=1,\n",
       "             subsample=1, tree_method='exact', validate_parameters=1,\n",
       "             verbosity=None)"
      ]
     },
     "execution_count": 258,
     "metadata": {},
     "output_type": "execute_result"
    }
   ],
   "source": [
    "my_model"
   ]
  },
  {
   "cell_type": "code",
   "execution_count": null,
   "metadata": {},
   "outputs": [],
   "source": []
  }
 ],
 "metadata": {
  "kernelspec": {
   "display_name": "Python 3",
   "language": "python",
   "name": "python3"
  },
  "language_info": {
   "codemirror_mode": {
    "name": "ipython",
    "version": 3
   },
   "file_extension": ".py",
   "mimetype": "text/x-python",
   "name": "python",
   "nbconvert_exporter": "python",
   "pygments_lexer": "ipython3",
   "version": "3.8.3"
  }
 },
 "nbformat": 4,
 "nbformat_minor": 4
}
